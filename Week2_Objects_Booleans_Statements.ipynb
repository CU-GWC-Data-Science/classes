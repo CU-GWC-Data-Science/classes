{
  "nbformat": 4,
  "nbformat_minor": 0,
  "metadata": {
    "colab": {
      "name": "Week2_Objects_Booleans_Statements",
      "provenance": [],
      "collapsed_sections": [],
      "include_colab_link": true
    },
    "kernelspec": {
      "name": "python3",
      "display_name": "Python 3"
    }
  },
  "cells": [
    {
      "cell_type": "markdown",
      "metadata": {
        "id": "view-in-github",
        "colab_type": "text"
      },
      "source": [
        "<a href=\"https://colab.research.google.com/github/cu-gwc-datascience/classes/blob/main/Week2_Objects_Booleans_Statements.ipynb\" target=\"_parent\"><img src=\"https://colab.research.google.com/assets/colab-badge.svg\" alt=\"Open In Colab\"/></a>"
      ]
    },
    {
      "cell_type": "markdown",
      "source": [
        "# **Week 2: Review of Objects, Booleans, and Statements**\n",
        "\n",
        "  Girls Who Code @ Columbia\n",
        "\n",
        "  Class 3: Intro to Data Science\n",
        "\n",
        "  Week 2: Introduction to: \n",
        "  \n",
        "\n",
        "*   Objects (Numbers, Strings, and Lists)\n",
        "*   Boolean statements\n",
        "*   If statements \n",
        "\n",
        "Material adapted from Weeks 3 & 4 of [pyclub](https://github.com/pyclub-cu/classes#readme) curriculum by Una Miller (ukm2103@columbia.edu) and Marina Gemma (meg2203@columbia.edu). "
      ],
      "metadata": {
        "id": "jolFAVVQJ1sN"
      }
    },
    {
      "cell_type": "markdown",
      "metadata": {
        "id": "mjOROkLb-YYs"
      },
      "source": [
        "## **Label your notebooks**\n",
        "\n",
        "1. Click on \"Copy to Drive\"\n",
        "\n",
        "2. Rename your notebook \"Week2_YourName\""
      ]
    },
    {
      "cell_type": "markdown",
      "metadata": {
        "id": "z6vNxpqUZu6i"
      },
      "source": [
        "\n",
        "**Learning Objectives:**\n",
        "* Learn about lists \n",
        "* Learn how to assign variables \n",
        "* Learn about indexing and slicing \n",
        "* Do some math calculations! \n",
        "* Break!\n",
        "* Learn about ocean temperature \n",
        "* Learn what Argo floats are \n",
        "* Understand the concept of quality control \n",
        "* Write Boolean statements \n",
        "* Write if statements \n",
        "* Write for loops\n",
        "\n",
        "### **Icebreaker!**\n",
        "<img src='https://drive.google.com/uc?id=10o4W7pFpFvN6hspQjQ1OR1Vk0SISEcGh'>\n",
        "\n",
        "> **Question: Let's name as many creatures (or things) of the sea as you can!**\n",
        "> Later, we will learn to add them to existing lists!\n",
        "> \n",
        "> Example: Sea urchins, jellyfish and plastic bottles!\n",
        "\n",
        "> **Question: What do you like to do to keep cool when it's really hot outside? What temperature do you think it is when it's really hot in New York?**\n",
        ">\n",
        ">Think about what the highest and lowest temperatures in the ocean might be. Would you believe someone who told you that where they lived it was 400$^\\circ$F? \n"
      ]
    },
    {
      "cell_type": "markdown",
      "metadata": {
        "id": "x55MeKNwsZsn"
      },
      "source": [
        "\n",
        "**Icebreaker answers:**\n",
        "\n",
        "* Our answers! (jellyfish, surfers 🏄🏽‍♀️, sea snails, etc.)"
      ]
    },
    {
      "cell_type": "markdown",
      "metadata": {
        "id": "VCA5XwDNEKTf"
      },
      "source": [
        "# **Recap: numbers and strings**\n",
        "\n",
        "Last week, we learnt about `print()` statements, and objects: numbers and strings (words/letters).\n",
        "\n",
        "Most things in Python are objects, from numbers and strings, to a list of items, such as this list of prime numbers:\n",
        "```\n",
        "[2,3,5,7,11,13]\n",
        "```\n",
        "\n",
        "Now, here's my grocery list 🛒:\n",
        "```\n",
        "['apples','yams','bread','eggs','sour patch kids']\n",
        "```\n",
        "\n",
        "**Lists** start and end with square brackets: `[]`, with each item separated by a comma.\n",
        "\n",
        "> Both of the above are lists, but they are different in one major way. **What do you think that is?**\n",
        "\n"
      ]
    },
    {
      "cell_type": "code",
      "source": [
        "# your answer here\n"
      ],
      "metadata": {
        "id": "pkbs6KTQ93Ry"
      },
      "execution_count": null,
      "outputs": []
    },
    {
      "cell_type": "markdown",
      "metadata": {
        "id": "ieeZAFue13h9"
      },
      "source": [
        "# **Lists**\n",
        "\n",
        "Lists are used to store multiple items in one collection.\n",
        "\n",
        "### **Example: marine life!**\n",
        "Let's put our ice breaker answers into a list:\n"
      ]
    },
    {
      "cell_type": "code",
      "metadata": {
        "id": "HyCkw4ARV8T6"
      },
      "source": [
        "# ice breaker creatures\n"
      ],
      "execution_count": null,
      "outputs": []
    },
    {
      "cell_type": "markdown",
      "metadata": {
        "id": "RVJSCBm7V8yy"
      },
      "source": [
        "What can we do with this list?\n",
        "\n",
        "* We can count how many creatures we came up with\n",
        "* We can learn how to select specific items in the list\n",
        "* We can add more creatures!"
      ]
    },
    {
      "cell_type": "markdown",
      "metadata": {
        "id": "fU44WKwyHd-G"
      },
      "source": [
        "## **`len()` command**\n",
        "The `len()` command tells us the length of a list. While we could *manually* count the length, using the `len()` command is much more efficient.\n"
      ]
    },
    {
      "cell_type": "code",
      "metadata": {
        "id": "QIWJwOdCI3Nw"
      },
      "source": [
        "# an example of using len() with my groceries list\n",
        "len(['apples','yams','bread','eggs','sour patch kids'])"
      ],
      "execution_count": null,
      "outputs": []
    },
    {
      "cell_type": "markdown",
      "metadata": {
        "id": "WhMVHd3AI6FA"
      },
      "source": [
        "\n",
        "\n",
        "This is especially useful when our lists get very long.\n",
        "\n",
        "> **So, how many creatures are in our list?**"
      ]
    },
    {
      "cell_type": "code",
      "metadata": {
        "id": "1p1WRH1ruVim"
      },
      "source": [
        "# how many creatures are in our list?\n"
      ],
      "execution_count": null,
      "outputs": []
    },
    {
      "cell_type": "markdown",
      "metadata": {
        "id": "vNA8wrbNKLe0"
      },
      "source": [
        "Now, as we just experienced, retyping that list to enter into the `len()` command was not very efficient. \n",
        "\n",
        "This is when saving a list (or other objects) can come in handy.\n",
        "\n",
        "We can save a list under a meaningful name.\n",
        "\n",
        "> **Let's try naming our list of creatures**\n"
      ]
    },
    {
      "cell_type": "code",
      "metadata": {
        "id": "Bwmtm5f1LsiH"
      },
      "source": [
        "# storing our list with a meaningful name\n",
        "creatures = #copy list"
      ],
      "execution_count": null,
      "outputs": []
    },
    {
      "cell_type": "code",
      "metadata": {
        "id": "KoC9OirbL5F9"
      },
      "source": [
        "# try printing your list here!\n"
      ],
      "execution_count": null,
      "outputs": []
    },
    {
      "cell_type": "code",
      "metadata": {
        "id": "7Hns-g5gL_QQ"
      },
      "source": [
        "# now try the len() command again on your list name instead!\n"
      ],
      "execution_count": null,
      "outputs": []
    },
    {
      "cell_type": "markdown",
      "metadata": {
        "id": "OtKegwNlFsK2"
      },
      "source": [
        "## **Assigning Variables**\n",
        "So, we've just assigned our list to a name. In Python, these names are called \"**variables**\".\n",
        "\n",
        "**What are variables?**\n",
        "> Variables are where we can store objects in our code. We can assign different types of objects (floats, integers, strings, lists, etc.) to variables\n",
        "\n",
        "If we want to save something for later use, we need to assign them to variables.\n",
        "\n",
        "Here is an example of assigning a number to a variable:\n"
      ]
    },
    {
      "cell_type": "code",
      "metadata": {
        "id": "a-upVQgCLp-k"
      },
      "source": [
        "my_age = 77"
      ],
      "execution_count": null,
      "outputs": []
    },
    {
      "cell_type": "markdown",
      "metadata": {
        "id": "pBrxYk6nL7NA"
      },
      "source": [
        "Here is an example of assigning a string to a variable:"
      ]
    },
    {
      "cell_type": "code",
      "metadata": {
        "id": "KzaNZL-tL6R2"
      },
      "source": [
        "my_name = 'Name'"
      ],
      "execution_count": null,
      "outputs": []
    },
    {
      "cell_type": "markdown",
      "metadata": {
        "id": "BGRns0nXwD3I"
      },
      "source": [
        "> SOME THINGS TO NOTE:\n",
        ">\n",
        "> As you can see, the variable name is always on the left, and the value is on the right\n",
        ">\n",
        "> i.e. `x = 2`, *NOT* `2 = x`\n",
        ">\n",
        "> It is helpful to pick a variable name that tells you about the object being stored (similar to how you might name a file on your computer based on what it contains)."
      ]
    },
    {
      "cell_type": "markdown",
      "metadata": {
        "id": "0crbzRctMRs6"
      },
      "source": [
        "By defining `my_name` and `my_age`, as we did above, Python will remember these variables during the rest of this session."
      ]
    },
    {
      "cell_type": "code",
      "metadata": {
        "id": "UbJ6lDE7L4ID"
      },
      "source": [
        "print(my_age)"
      ],
      "execution_count": null,
      "outputs": []
    },
    {
      "cell_type": "markdown",
      "metadata": {
        "id": "_AVT7_NryZW4"
      },
      "source": [
        "You can also reassign variables:\n"
      ]
    },
    {
      "cell_type": "code",
      "metadata": {
        "id": "A2rA_3Nsyr3C"
      },
      "source": [
        "my_name = '<enter your name here>'\n",
        "print(my_name)"
      ],
      "execution_count": null,
      "outputs": []
    },
    {
      "cell_type": "code",
      "metadata": {
        "id": "I6k_Jz88y4hf"
      },
      "source": [
        "my_age = '<enter your age here>'\n",
        "print(my_age)"
      ],
      "execution_count": null,
      "outputs": []
    },
    {
      "cell_type": "markdown",
      "metadata": {
        "id": "ZWmnNIgURgkb"
      },
      "source": [
        "## **Indexing**\n",
        "Now that we've stored our list as a variable, we can more easily access it! Hooray!\n",
        "\n",
        "What if we want to access a specific item in the list? We can do this with **indexing**.\n",
        "\n",
        "> Python indexing is a numbering system that **starts from zero**!\n",
        "\n",
        "This is extremely important to remember when using Python - you have to start counting from `0` instead of `1`!\n",
        "\n",
        "Take a look at our groceries list:\n",
        "\n",
        "<img src='https://drive.google.com/uc?id=124cKVTYKX6a9m2k6lguiNPOqw4qoWY7h'>\n",
        "\n",
        "Starting with `0`, we can associate each grocery item with an index number:"
      ]
    },
    {
      "cell_type": "code",
      "metadata": {
        "id": "d53fNGSTRgVJ"
      },
      "source": [
        "groceries = ['apples','yams','bread','eggs','sour patch kids']\n",
        "\n",
        "# the first item in the list has index 0\n",
        "groceries[0]"
      ],
      "execution_count": null,
      "outputs": []
    },
    {
      "cell_type": "code",
      "metadata": {
        "id": "LKYfyczFcgC_"
      },
      "source": [
        "# try to select a different item from groceries using indexing\n"
      ],
      "execution_count": null,
      "outputs": []
    },
    {
      "cell_type": "markdown",
      "metadata": {
        "id": "vhdtGFWsaDtS"
      },
      "source": [
        "Because we start indexing from 0, the last item in a list always has an index that is one **less** than the list length:"
      ]
    },
    {
      "cell_type": "code",
      "metadata": {
        "id": "F7aOXAF_ZoZO"
      },
      "source": [
        "# last item of groceries has index 4\n",
        "groceries[4]"
      ],
      "execution_count": null,
      "outputs": []
    },
    {
      "cell_type": "markdown",
      "metadata": {
        "id": "wsm7C3WTeNCY"
      },
      "source": [
        "> Here's a tip: you can always access the last item in a list by using a -1 index.\n",
        ">\n",
        "> **Give it a go. What happens if you try an index of -2?**"
      ]
    },
    {
      "cell_type": "code",
      "metadata": {
        "id": "iw7KerS4eNCZ"
      },
      "source": [
        "# try using a -1 index\n"
      ],
      "execution_count": null,
      "outputs": []
    },
    {
      "cell_type": "code",
      "metadata": {
        "id": "vQ87l9fBecJc"
      },
      "source": [
        "# try using a -2 index\n"
      ],
      "execution_count": null,
      "outputs": []
    },
    {
      "cell_type": "markdown",
      "metadata": {
        "id": "aPJZJ6CLYygO"
      },
      "source": [
        "\n",
        "> **Now try to get the first creature from our creatures list!**"
      ]
    },
    {
      "cell_type": "code",
      "metadata": {
        "id": "jrab9b8cZUI7"
      },
      "source": [
        "# the first creature\n"
      ],
      "execution_count": null,
      "outputs": []
    },
    {
      "cell_type": "markdown",
      "metadata": {
        "id": "sceacJUkepX4"
      },
      "source": [
        "\n",
        "> **Now try to get the last creature from our creatures list!**"
      ]
    },
    {
      "cell_type": "code",
      "metadata": {
        "id": "jOX0qDRoepX5"
      },
      "source": [
        "# the last creature\n"
      ],
      "execution_count": null,
      "outputs": []
    },
    {
      "cell_type": "markdown",
      "metadata": {
        "id": "2_oeVMmpfa5S"
      },
      "source": [
        "## **Slicing**\n",
        "\n",
        "We can also select a sequence of items in the list by **slicing**! \n",
        "\n",
        "Slicing works by specifying a start number and end number in the index, separated by a `:`\n",
        "\n",
        "> **Try `creatures[0:3]`**"
      ]
    },
    {
      "cell_type": "code",
      "metadata": {
        "id": "xQq6YUaVfa5S"
      },
      "source": [
        "# try here\n"
      ],
      "execution_count": null,
      "outputs": []
    },
    {
      "cell_type": "markdown",
      "metadata": {
        "id": "IPi-GgLRfufq"
      },
      "source": [
        "> Notice that the sliced result begins with your start index, but only **goes up to and not including** the end index\n",
        "\n",
        "\n",
        "> TIP: to get a slice to the very end of the list, you can simply omit an end index, like so\n"
      ]
    },
    {
      "cell_type": "code",
      "metadata": {
        "id": "qjAQ7H_Ug7SW"
      },
      "source": [
        "# slicing from the 3rd item ('bread') to the last item of groceries\n",
        "groceries[2:]"
      ],
      "execution_count": null,
      "outputs": []
    },
    {
      "cell_type": "markdown",
      "metadata": {
        "id": "I6TLkZo0fufq"
      },
      "source": [
        "> **Slice `creatures` starting from 'sea snails' to the last creature**"
      ]
    },
    {
      "cell_type": "code",
      "metadata": {
        "id": "1P9OPznIhsHg"
      },
      "source": [
        "# here's the list for reference\n",
        "print(creatures)"
      ],
      "execution_count": null,
      "outputs": []
    },
    {
      "cell_type": "code",
      "metadata": {
        "id": "QIpBFmJ4fufr"
      },
      "source": [
        "# slice from 'sea snails' to the LAST creature\n"
      ],
      "execution_count": null,
      "outputs": []
    },
    {
      "cell_type": "markdown",
      "metadata": {
        "id": "hWLsj54qjAJn"
      },
      "source": [
        "# **Marine life seen at Rockaway Beach**\n",
        "\n",
        "<img src='https://drive.google.com/uc?id=10GLI1eLUNSLZKBvStbOnI56vYYmgFKIB'>\n",
        "\n",
        "Here's a list of some of the living things that have been spotted at the Rockaways!"
      ]
    },
    {
      "cell_type": "code",
      "metadata": {
        "id": "-0tfmkN-jOIT"
      },
      "source": [
        "# big list of somes species at the Rockaways\n",
        "rockaway_species = ['lobster', 'crabs', 'shrimp', 'seagull','heron', 'pelican',\n",
        "                    'eel', 'herring', 'needlefish', 'sturgeon', 'anchovy',\n",
        "                    'seabass', 'seahorse','mummichog', 'pufferfish', 'sunfish',\n",
        "                    'striped bass', 'blue shark', 'bull shark', 'nurse shark',\n",
        "                    'sandbar shark', 'scalloped hammerhead', 'mako shark', \n",
        "                    'thresher shark', 'atlantic torpedo ray', 'little skate',\n",
        "                    'roughtail stingray', 'bottlenose dolphin', 'grey seal',\n",
        "                    'blue whale', 'fin whale', 'north alantic right whale',\n",
        "                    'humpback whale', 'moon jellyfish', 'starfish', 'clams',\n",
        "                    'mussels', 'oysters', 'algae', 'sea lettuce']"
      ],
      "execution_count": null,
      "outputs": []
    },
    {
      "cell_type": "markdown",
      "metadata": {
        "id": "5uoQBCoelkL3"
      },
      "source": [
        "> **How long is this list?**"
      ]
    },
    {
      "cell_type": "code",
      "metadata": {
        "id": "Uc8kBPjDk0Rf"
      },
      "source": [
        "# number of species\n"
      ],
      "execution_count": null,
      "outputs": []
    },
    {
      "cell_type": "markdown",
      "metadata": {
        "id": "U3KNY7QYPk0z"
      },
      "source": [
        "Items can be added to the list. Maybe you've observed a species on your last trip to the Rockaways that isn't on this list! \n",
        "\n",
        "To add, we can use the `append()` function:"
      ]
    },
    {
      "cell_type": "code",
      "metadata": {
        "id": "H1TBUULKPkMh"
      },
      "source": [
        "# appending example\n",
        "rockaway_species.append('minke whale')"
      ],
      "execution_count": null,
      "outputs": []
    },
    {
      "cell_type": "markdown",
      "metadata": {
        "id": "zP3Nu6rplYwD"
      },
      "source": [
        "We can also add our `creatures` list to `rockaway_species` by using addition (`+`)!\n",
        "\n",
        "`list_one + list_two`\n",
        "\n",
        "> **Let's add the `creatures` list to `rockaway_species`**"
      ]
    },
    {
      "cell_type": "code",
      "metadata": {
        "id": "6JqaEVi78hCI"
      },
      "source": [
        "# add creatures to rockaway_species\n"
      ],
      "execution_count": null,
      "outputs": []
    },
    {
      "cell_type": "code",
      "metadata": {
        "id": "OUNrlArMlYLy"
      },
      "source": [
        "# rename updated list\n"
      ],
      "execution_count": null,
      "outputs": []
    },
    {
      "cell_type": "markdown",
      "metadata": {
        "id": "fA0Ho08mQObf"
      },
      "source": [
        "# **Mathematical operations**\n",
        "\n",
        "Remember, Python can do math, much like a calculator!\n",
        "\n",
        "* to add, use `+`\n",
        "* to subtract, use `-`\n",
        "* to multiply, use `*`\n",
        "* to divide, use `/`\n",
        "* to use an exponent, use `**`\n",
        "    * to raise x to the power of 2, you can do: `x**2`\n",
        "    * to take the square root of x, you can do: `x**(1/2)`\n",
        "* brackets can be used to infer the order of operations\n",
        "\n"
      ]
    },
    {
      "cell_type": "markdown",
      "metadata": {
        "id": "wQlP8dzsRLOd"
      },
      "source": [
        "**Exercise**\n",
        "\n",
        "> Earlier, we stored your age. What will your age be in 5 more years?\n",
        ">\n",
        "> **Calculate the answer by using `my_age` and a simple math operation**"
      ]
    },
    {
      "cell_type": "code",
      "metadata": {
        "id": "hqWcNaiuRgky"
      },
      "source": [
        "# enter answer below\n"
      ],
      "execution_count": null,
      "outputs": []
    },
    {
      "cell_type": "markdown",
      "metadata": {
        "id": "ZLXHLsWyR14m"
      },
      "source": [
        "Mathematical operations are not limited to only numbers in Python. We've added lists, and we've also added numbers. We can also add strings!\n",
        "\n",
        "> **ATTENTION: Apples and Oranges!**\n",
        ">\n",
        "> You can only add numbers to other numbers, OR strings to other strings. In order to add a number to a string, you need to **convert** the number to a string format first. For example:"
      ]
    },
    {
      "cell_type": "code",
      "metadata": {
        "id": "HBaggvoRSZmB"
      },
      "source": [
        "print(my_name + ' is ' + str(my_age)  + ' years old.')\n"
      ],
      "execution_count": null,
      "outputs": []
    },
    {
      "cell_type": "code",
      "metadata": {
        "id": "763fi5uTPYXL"
      },
      "source": [
        "# try your own sentence below"
      ],
      "execution_count": null,
      "outputs": []
    },
    {
      "cell_type": "markdown",
      "source": [
        "You **cannot** convert a string to a number."
      ],
      "metadata": {
        "id": "lOivSfdTCv2o"
      }
    },
    {
      "cell_type": "markdown",
      "metadata": {
        "id": "hH1Et1fGP3Mo"
      },
      "source": [
        "# **Extra: more math!**\n",
        "Some more math if you want to try equations with multiple variables"
      ]
    },
    {
      "cell_type": "markdown",
      "metadata": {
        "id": "opf2d7NsEioL"
      },
      "source": [
        "**Example of how to solve this equation**\n",
        "> If y = 2x + c,\n",
        ">\n",
        "> where x = 0.5 and c = 42\n",
        ">\n",
        "> **What is y?** \n"
      ]
    },
    {
      "cell_type": "code",
      "metadata": {
        "id": "vtrvmgTkRI-Q"
      },
      "source": [
        "# first assign variables\n",
        "x = 0.5\n",
        "c = 42"
      ],
      "execution_count": null,
      "outputs": []
    },
    {
      "cell_type": "code",
      "metadata": {
        "id": "VBj076OYRKiH"
      },
      "source": [
        "# next, write the equation\n",
        "y = 2*x + c"
      ],
      "execution_count": null,
      "outputs": []
    },
    {
      "cell_type": "code",
      "metadata": {
        "id": "F1G7nNtDE7v2"
      },
      "source": [
        "# what is y?\n",
        "y"
      ],
      "execution_count": null,
      "outputs": []
    },
    {
      "cell_type": "markdown",
      "metadata": {
        "id": "Y2_ctjHeFh2A"
      },
      "source": [
        "**Exercise for you!**\n",
        "\n",
        "> y = 2a$^{2}$ + 6b + c ,\n",
        ">\n",
        "> where a = 5, b = 2 and c = 3\n",
        ">\n",
        "> **What is y?**"
      ]
    },
    {
      "cell_type": "code",
      "metadata": {
        "id": "f9h3-eVWFBBa"
      },
      "source": [
        "# assign the variables\n"
      ],
      "execution_count": null,
      "outputs": []
    },
    {
      "cell_type": "code",
      "metadata": {
        "id": "_DdBXMZv6_AY"
      },
      "source": [
        "# write the equation\n"
      ],
      "execution_count": null,
      "outputs": []
    },
    {
      "cell_type": "code",
      "metadata": {
        "id": "IStIdIcm0bnI"
      },
      "source": [
        "# what is y\n"
      ],
      "execution_count": null,
      "outputs": []
    },
    {
      "cell_type": "markdown",
      "metadata": {
        "id": "dBGQMZ-j0eFD"
      },
      "source": [
        "> Hint: to raise x to the power of 2, you can do `x**2`\n"
      ]
    },
    {
      "cell_type": "markdown",
      "metadata": {
        "id": "RhkB-kMBJ25p"
      },
      "source": [
        "# **Dictionaries**\n",
        "\n",
        "We've seen that we can access items in a list by using numerical **indices** (plural of index!). You can also index with words. This is used in Python dictionaries, _another_ type of Python object.\n",
        "\n",
        "* Much like lists, dictionary items are separated by commas.\n",
        "* Unlike lists, dictionaries begin and end with curly brackets `{}`\n",
        "```\n",
        "d = {\n",
        "    <key>: <value>,\n",
        "    <key>: <value>,\n",
        "    ...\n",
        "    <key>: <value>\n",
        "}\n",
        "```\n",
        "\n",
        "> The \"index\" of a dictionary is called a **key**.\n",
        ">\n",
        "> The associated **values** can be numbers, strings, or lists.\n"
      ]
    },
    {
      "cell_type": "code",
      "metadata": {
        "id": "xF_9u9XFMT8R"
      },
      "source": [
        "# a dictionary for a shark tracked at https://www.ocearch.org/\n",
        "Finn = {'species': 'white shark',\n",
        "        'length [m]': 1.5,\n",
        "        'weight [lbs]': 79.2,\n",
        "        'GPS ping': 'Long Beach, NY'\n",
        "}\n",
        "\n",
        "# another shark\n",
        "Bonac = {'species': 'blue shark',\n",
        "        'length [m]': 2.9,\n",
        "        'weight [lbs]': 216,\n",
        "        'GPS ping': 'Atlantic Ocean'\n",
        "    \n",
        "}"
      ],
      "execution_count": null,
      "outputs": []
    },
    {
      "cell_type": "markdown",
      "source": [
        "# Break Time!\n",
        "\n",
        "<img src='https://media2.giphy.com/media/PkSAuBLO8wvATmcTYk/giphy.gif?cid=ecf05e47xl9umx3c0yrnw1z35jspkx5ev2j01qxgwbrqa728&rid=giphy.gif&ct=g'>\n",
        "\n"
      ],
      "metadata": {
        "id": "v7dhI1BBM8HQ"
      }
    },
    {
      "cell_type": "markdown",
      "source": [
        "# **Ocean temperature**\n",
        "\n",
        "Here is a video of surface ocean temperature between 2008 and 2019."
      ],
      "metadata": {
        "id": "AQAFkSKcNCwm"
      }
    },
    {
      "cell_type": "code",
      "source": [
        "#This code embeds the video below. You don't need to run it, just press play.\n",
        "from IPython.display import HTML\n",
        "\n",
        "HTML('<iframe width=\"560\" height=\"315\" src=\"https://www.youtube.com/embed/xvbV9llG5L8\" frameborder=\"0\" allow=\"accelerometer; autoplay; clipboard-write; encrypted-media; gyroscope; picture-in-picture\" allowfullscreen></iframe>')"
      ],
      "metadata": {
        "colab": {
          "base_uri": "https://localhost:8080/",
          "height": 336
        },
        "id": "zQxIHVUtNTsy",
        "outputId": "c31b2df7-fafc-4e0a-e2f8-2e3feb9b1a23"
      },
      "execution_count": null,
      "outputs": [
        {
          "output_type": "execute_result",
          "data": {
            "text/html": [
              "<iframe width=\"560\" height=\"315\" src=\"https://www.youtube.com/embed/xvbV9llG5L8\" frameborder=\"0\" allow=\"accelerometer; autoplay; clipboard-write; encrypted-media; gyroscope; picture-in-picture\" allowfullscreen></iframe>"
            ],
            "text/plain": [
              "<IPython.core.display.HTML object>"
            ]
          },
          "metadata": {},
          "execution_count": 1
        }
      ]
    },
    {
      "cell_type": "markdown",
      "source": [
        "> The ocean's temperature is different in different places and at different times. \n",
        ">\n",
        ">**What factors affect ocean temperature?**"
      ],
      "metadata": {
        "id": "aVu257cbM6zH"
      }
    },
    {
      "cell_type": "code",
      "source": [
        "# Write the reasons temperature in the ocean might be larger or smaller than normal:\n",
        "print('your answer')"
      ],
      "metadata": {
        "id": "cyIfOr4xNjK9"
      },
      "execution_count": null,
      "outputs": []
    },
    {
      "cell_type": "markdown",
      "source": [
        "\n",
        "Here's a picture that might help:\n",
        "\n",
        "![Tilted earth](https://www.lpi.usra.edu/education/skytellers/seasons/images/fig2.jpg)\n",
        "\n",
        ">The maximum temperature of the ocean (away from hydrothermal vents) is about 88$^\\circ$F, or 30$^\\circ$C.\n",
        ">The minimum temperature of the ocean is about 28$^\\circ$F, or -2$^\\circ$C. \n",
        ">\n",
        ">**Why is the minimum temperature of the ocean -2$^\\circ$C?**"
      ],
      "metadata": {
        "id": "G6AAA0D_N11N"
      }
    },
    {
      "cell_type": "code",
      "source": [
        "# Write the reason the ocean's minimum temperature is -2C.\n",
        "print('your answer here')"
      ],
      "metadata": {
        "id": "WEue2ceqNxX9"
      },
      "execution_count": null,
      "outputs": []
    },
    {
      "cell_type": "markdown",
      "source": [
        "# **Measuring ocean temperature with robotic floats**\n",
        "\n",
        "One way that oceanographers measure temperature is using **Argo floats**. \n",
        "\n",
        "Argo floats are robotic floats that look like this:\n",
        "\n",
        "\n",
        "![Natalie_Freeman_Argo.jpeg](https://soccom.princeton.edu/sites/default/files/imagesimages/Natalie_Freeman_AndrexII_2019.jpeg)\n",
        "![Earle_argo.jpg](https://www.mbari.org/wp-content/uploads/2020/10/soccom-float-carry-640.jpg)\n",
        "\n",
        "\n",
        "We drop Argo floats into the ocean from a boat, and then they move up and down, measuring temperature. They send the measurements back to us through satellites. They last for 3-5 years. \n",
        "\n",
        "![argo_cycle.png](https://www.researchgate.net/profile/Taiyo_Kobayashi/publication/236890021/figure/fig2/AS:299424635998209@1448399804347/Schematic-diagram-of-float-operation-in-the-ocean-under-Argo.png)"
      ],
      "metadata": {
        "id": "C8WqpwGDODzf"
      }
    },
    {
      "cell_type": "markdown",
      "source": [
        "### **What is Quality Control?**\n",
        "\n",
        "Sometimes Argo floats don't measure the ocean accurately. This often happens because of **bio-fouling.** \n",
        "\n",
        ">Bio-fouling is when plants or animals grow or get caught on a piece of equipment. \n",
        "\n",
        "This happens a lot in the ocean. The picture below is a glider (not an Argo float) that has been in the ocean for several months. It moves in the ocean horizontally. Argo floats also have things growing on them, but nobody retrieves Argo floats, so we don't have any pictures. \n",
        "\n",
        "![Biofouling-on-glider.png](https://www.researchgate.net/profile/C_Nichols2/publication/342932620/figure/fig3/AS:927701548408833@1598192693139/Biofouling-on-an-Ocean-Observatories-Initiative-OOI-ocean-glider-recovered-by-the.png)\n",
        "\n",
        ">Because of biofouling, sometimes our floats don't record the correct temperature. When this happens, the measurement is usually **very different** from the measurement we would expect.  \n",
        "\n",
        "Here is an example of some temperature data. \n",
        "\n",
        "> **Which temperature do you think is wrong?**"
      ],
      "metadata": {
        "id": "f3oBGpfsONxq"
      }
    },
    {
      "cell_type": "code",
      "source": [
        "#Depth of Argo float in meters\n",
        "argo_depth = [-10, -20, -30, -40, -50, \n",
        "              -60, -70, -80, -90, -100, \n",
        "              -120, 140, -160, -180, -200, \n",
        "              -220, -240, -260, -280, -300]\n",
        "\n",
        "#Temperature measurements in degrees C\n",
        "argo_temp = [18.4, 18.3, 18.3, 18.1, 17.3, \n",
        "             16.8, 80, 12.2, 8.4, 3.4, \n",
        "             3.3, 2.5, 2.1, 2.1, 2.1, \n",
        "             2.1, 2.1, 2.0, 2.0]"
      ],
      "metadata": {
        "id": "YM6IOQRLOV92"
      },
      "execution_count": null,
      "outputs": []
    },
    {
      "cell_type": "markdown",
      "source": [
        "We would like to automatically identify temperatures that are not realistic. We can do this using *Booleans*."
      ],
      "metadata": {
        "id": "RE22ohDpObe5"
      }
    },
    {
      "cell_type": "markdown",
      "source": [
        "# **What is a Boolean?**\n",
        "\n",
        ">A Boolean value is a type of Python object that can only have two values: `True` or `False`. \n",
        "\n",
        "Python will automatically create a Boolean value if you use a Boolean operator, such as:\n",
        "\n",
        "*   `<` (less than)\n",
        "*   `>` (greater than)\n",
        "* `==` (equal to)\n",
        "* `!=` (not equal to)\n",
        "\n",
        "For example, if `a=1` and `b=2`:"
      ],
      "metadata": {
        "id": "jzMA30h5OhWP"
      }
    },
    {
      "cell_type": "code",
      "source": [
        "a = 1\n",
        "b = 2\n"
      ],
      "metadata": {
        "id": "SaEAbpEkOiTI"
      },
      "execution_count": null,
      "outputs": []
    },
    {
      "cell_type": "markdown",
      "source": [
        "We can ask Python whether `a>b`:"
      ],
      "metadata": {
        "id": "FFAwG2suJsBe"
      }
    },
    {
      "cell_type": "code",
      "source": [
        "\n",
        "print(a>b)"
      ],
      "metadata": {
        "id": "kI9_ltrsJxf9"
      },
      "execution_count": null,
      "outputs": []
    },
    {
      "cell_type": "markdown",
      "source": [
        "However, if we ask Python whether `a<b`, we get a different answer:"
      ],
      "metadata": {
        "id": "H4EOSWcyOkyH"
      }
    },
    {
      "cell_type": "code",
      "source": [
        "print(a<b)"
      ],
      "metadata": {
        "id": "gZT22jjjOoB5"
      },
      "execution_count": null,
      "outputs": []
    },
    {
      "cell_type": "markdown",
      "source": [
        "Python tells us that that is `True`. \n",
        "\n",
        "> **Now try for yourself: practice changing the values of `a` and `b` in the next cell and predict whether the output will be `True` or `False`.**"
      ],
      "metadata": {
        "id": "xJCUgMsYRQ9p"
      }
    },
    {
      "cell_type": "code",
      "source": [
        "a = 1\n",
        "b = 2\n",
        "\n",
        "print(a==b)"
      ],
      "metadata": {
        "id": "rdTD-j7ZRTTn"
      },
      "execution_count": null,
      "outputs": []
    },
    {
      "cell_type": "markdown",
      "source": [
        "> The single equation sign `=` is for assigning variables and the double equation sign `==` is for using Booleans to check whether two values are equal. \n",
        "\n",
        "We can use these Boolean operators to find the bad values in the list of temperature measurements (which we will do in a bit)."
      ],
      "metadata": {
        "id": "2mwfvP94RYtJ"
      }
    },
    {
      "cell_type": "markdown",
      "source": [
        "Another Boolean operator is `in`. It is used to check whether a particular item exists in a list, for example"
      ],
      "metadata": {
        "id": "bBv54RjORnns"
      }
    },
    {
      "cell_type": "code",
      "source": [
        "#create new list\n",
        "oceans = ['Atlantic','Pacific','Indian','Southern']"
      ],
      "metadata": {
        "id": "j9exLeJKRr6r"
      },
      "execution_count": null,
      "outputs": []
    },
    {
      "cell_type": "code",
      "source": [
        "#check whether 'Atlantic' is in this list:\n",
        "'Atlantic' in oceans"
      ],
      "metadata": {
        "id": "9P6fwE2hRuJ-"
      },
      "execution_count": null,
      "outputs": []
    },
    {
      "cell_type": "markdown",
      "source": [
        "> **Write your own code to check whether `'Pacific'` is in the list**"
      ],
      "metadata": {
        "id": "uNP2qTvaR3-d"
      }
    },
    {
      "cell_type": "code",
      "source": [
        "#Write your own code here"
      ],
      "metadata": {
        "id": "GHpsIt_4R6Iz"
      },
      "execution_count": null,
      "outputs": []
    },
    {
      "cell_type": "markdown",
      "source": [
        "Below is a list of species found at the Rockaways, from earlier in the lecture."
      ],
      "metadata": {
        "id": "M8JsVs8rR-ar"
      }
    },
    {
      "cell_type": "code",
      "source": [
        "# big list of somes species at the Rockaways\n",
        "rockaway_species = ['lobster', 'crabs', 'shrimp', 'seagull','heron', 'pelican',\n",
        "                    'eel', 'herring', 'needlefish', 'sturgeon', 'anchovy',\n",
        "                    'seabass', 'seahorse','mummichog', 'pufferfish', 'sunfish',\n",
        "                    'striped bass', 'blue shark', 'bull shark', 'nurse shark',\n",
        "                    'sandbar shark', 'scalloped hammerhead', 'mako shark', \n",
        "                    'thresher shark', 'atlantic torpedo ray', 'little skate',\n",
        "                    'roughtail stingray', 'bottlenose dolphin', 'grey seal',\n",
        "                    'blue whale', 'fin whale', 'north alantic right whale',\n",
        "                    'humpback whale', 'moon jellyfish', 'starfish', 'clams',\n",
        "                    'mussels', 'oysters', 'algae', 'sea lettuce']"
      ],
      "metadata": {
        "id": "dtQLvjCFSDdU"
      },
      "execution_count": null,
      "outputs": []
    },
    {
      "cell_type": "markdown",
      "source": [
        "> **Using python, find out whether `'bottlenose dolphin'` is in the list**"
      ],
      "metadata": {
        "id": "eEhSumXCSRMr"
      }
    },
    {
      "cell_type": "code",
      "source": [
        "#Write your code here\n"
      ],
      "metadata": {
        "id": "-q-X7pMMSaJV"
      },
      "execution_count": null,
      "outputs": []
    },
    {
      "cell_type": "markdown",
      "source": [
        "# **If statements**\n",
        "Boolean values are really useful in **if statements**. Here's an example. "
      ],
      "metadata": {
        "id": "UavnqzCEScdG"
      }
    },
    {
      "cell_type": "code",
      "source": [
        "a = 1\n",
        "b = 2\n",
        "\n",
        "if (a==b):\n",
        "  print('a is equal to b')"
      ],
      "metadata": {
        "id": "bdljol5WSi5D"
      },
      "execution_count": null,
      "outputs": []
    },
    {
      "cell_type": "markdown",
      "source": [
        "> Because `a` and `b` are not equal in the above example, there is no output. \n",
        ">\n",
        "> **Try changing `a` and `b` to be equal and running the cell again.**\n",
        "\n",
        "The layout of the code is important. You have to include the colon `:` in the first line of the `if` statement. \n",
        "\n",
        "The indent before the `print` statement tells the code that the `print` statement is **inside** the `if` statement.\n",
        "\n",
        "If we add more code with an indent, that code is *inside* the `if`.\n",
        "\n",
        "> **Run the code below. What is the output? Why?**"
      ],
      "metadata": {
        "id": "9W4fNK21Slw7"
      }
    },
    {
      "cell_type": "code",
      "source": [
        "a = 1\n",
        "b = 2\n",
        "\n",
        "if (a==b):\n",
        "  print('a is equal to b')\n",
        "  print('This is inside the if statement')"
      ],
      "metadata": {
        "id": "gCsnzQ38SpoB"
      },
      "execution_count": null,
      "outputs": []
    },
    {
      "cell_type": "markdown",
      "source": [
        "> **Try changing `a` and `b` to be equal and run the above cell again.**\n",
        "\n",
        "If we add more code without an indent, that code is *outside* the `if`, so it will run whether or not `a==b` is `True`. \n",
        "\n",
        "> **Run the code below. What is the output? Why?**"
      ],
      "metadata": {
        "id": "dk8VXxkiSvdA"
      }
    },
    {
      "cell_type": "code",
      "source": [
        "a = 1\n",
        "b = 2\n",
        "\n",
        "if (a==b):\n",
        "  print('a is equal to b')\n",
        "print('This is outside the if statement')"
      ],
      "metadata": {
        "id": "gOLzeFXtSz9S"
      },
      "execution_count": null,
      "outputs": []
    },
    {
      "cell_type": "markdown",
      "source": [
        "> **Try changing `a` and `b` to be equal and run the above cell again.** \n",
        "\n",
        "Python expects there to be *some code* inside the `if`. So if there is no indent on the next line, the code will give an error. \n",
        "\n",
        "> **Run the code below. What is the output? Why?**"
      ],
      "metadata": {
        "id": "LKcd14e2S2jo"
      }
    },
    {
      "cell_type": "code",
      "source": [
        "a = 1\n",
        "b = 2\n",
        "\n",
        "if (a==b):\n",
        "print('a is equal to b')"
      ],
      "metadata": {
        "id": "QpHa7KCaS41k"
      },
      "execution_count": null,
      "outputs": []
    },
    {
      "cell_type": "markdown",
      "source": [
        "# Using if statements to find incorrect measurements\n",
        "We would like to write some code that tells us if a measurement is not realistic, which we are defining as: hotter than 30$^{\\circ}$C or colder than -2$^{\\circ}$C. \n",
        "\n",
        "The next cell checks if the measurement is above 30$^{\\circ}$C.\n",
        "\n",
        "> **Run the code below. What is the output? Why?**"
      ],
      "metadata": {
        "id": "zaQW4wVfS8X3"
      }
    },
    {
      "cell_type": "code",
      "source": [
        "measurement = 31\n",
        "if measurement>30:\n",
        "  print('The measurement is too hot, so we should discard it')"
      ],
      "metadata": {
        "id": "NTr5pkN2S_2A"
      },
      "execution_count": null,
      "outputs": []
    },
    {
      "cell_type": "markdown",
      "source": [
        "> **In the next cell, write code that warns us if `measurement` is colder than -2$^{\\circ}$C.**"
      ],
      "metadata": {
        "id": "2DLZppMsTC8L"
      }
    },
    {
      "cell_type": "code",
      "source": [
        "#Your code here\n"
      ],
      "metadata": {
        "id": "6wbmgOlHTFNr"
      },
      "execution_count": null,
      "outputs": []
    },
    {
      "cell_type": "markdown",
      "source": [
        "Remember we wanted to find out which of the temperatures is wrong. Now we can do this automatically:"
      ],
      "metadata": {
        "id": "ldFTAtU2TJN5"
      }
    },
    {
      "cell_type": "code",
      "source": [
        "#Depth of Argo float in meters\n",
        "argo_depth = [-10, -20, -30, -40, -50, \n",
        "              -60, -70, -80, -90, -100, \n",
        "              -120, 140, -160, -180, -200, \n",
        "              -220, -240, -260, -280, -300]\n",
        "\n",
        "#Temperature measurements in degrees C\n",
        "argo_temp = [18.4, 18.3, 18.3, 18.1, 17.3, \n",
        "             16.8, 80, 12.2, 8.4, 3.4, \n",
        "             3.3, 2.5, 2.1, 2.1, 2.1, \n",
        "             2.1, 2.1, 2.0, 2.0]"
      ],
      "metadata": {
        "id": "Hsa4m_JDTNfE"
      },
      "execution_count": null,
      "outputs": []
    },
    {
      "cell_type": "code",
      "source": [
        "measurement = argo_temp[4]\n",
        "if measurement>30:\n",
        "  print('The measurement is too hot, so we should discard it')"
      ],
      "metadata": {
        "id": "5Mdf6k6UTRAP"
      },
      "execution_count": null,
      "outputs": []
    },
    {
      "cell_type": "markdown",
      "source": [
        "After running the code above, we see that the value that has an index of `4` in our `argo_temp` list is **not** `>` 30."
      ],
      "metadata": {
        "id": "_V6GwbVvMIxP"
      }
    },
    {
      "cell_type": "markdown",
      "source": [
        "# **For Loops**\n",
        "\n",
        "For loops are extremely useful! They iterate over (run through) a sequence, which can be a list, a dictionary, a string, or a tuple (which is similar to a list, but uses `()` instead of `[]`). \n",
        "\n",
        "Using a `for` loop, you can run multiple statements (one for each item in a list, string, etc.).\n",
        "\n",
        "When you have a command or set of commands (statements) you want to run some number (x) of times, you use a `for' loop with the structure:\n",
        "\n",
        "  for x in creatures:\n",
        "      print(x)\n",
        "\n",
        "For our list `creatures`, the `for` loop above will run the `print()` command `x` number of times (which, in this case, `x` is equal to `len(creatures)`).\n",
        "\n",
        "Let's use our `rockaway_species` list in a `for` loop:"
      ],
      "metadata": {
        "id": "MFNQOntiqm6F"
      }
    },
    {
      "cell_type": "code",
      "source": [
        "# first, let's print our rockaway_species list to remind ourselves what it contains\n",
        "print(rockaway_species)"
      ],
      "metadata": {
        "id": "eQVMVoQ4Nuyt"
      },
      "execution_count": null,
      "outputs": []
    },
    {
      "cell_type": "markdown",
      "source": [
        "We can try running the same for loop as we did above for the `creatures` list, but this time we will use `rockaway_species`:"
      ],
      "metadata": {
        "id": "5HJSj8B1PGYP"
      }
    },
    {
      "cell_type": "code",
      "source": [
        "for x in rockaway_species:\n",
        "  print(x)"
      ],
      "metadata": {
        "id": "tCRjThNiNhAj"
      },
      "execution_count": null,
      "outputs": []
    },
    {
      "cell_type": "markdown",
      "source": [
        "You'll quickly notice that this for loop gives us essentially the same output as the `print(rockaway_species)` command does. \n",
        "\n",
        "Let's use a `for` loop to get a different result. Instead of `print(x)`, let's print `len(x)`:"
      ],
      "metadata": {
        "id": "yAa2ea0JOpyD"
      }
    },
    {
      "cell_type": "code",
      "source": [
        "for x in rockaway_species:\n",
        "  print(len(x))"
      ],
      "metadata": {
        "id": "6zNHMfw9OpKd"
      },
      "execution_count": null,
      "outputs": []
    },
    {
      "cell_type": "markdown",
      "source": [
        "This prints the **length** of each item in our `rockaway_species` list!\n",
        "\n",
        " Try using a different command in the for loop below:"
      ],
      "metadata": {
        "id": "OSwj8l80SHh6"
      }
    },
    {
      "cell_type": "code",
      "source": [
        "for x in rockaway_species:\n",
        "  #your command here"
      ],
      "metadata": {
        "id": "EgOvvnVVSock"
      },
      "execution_count": null,
      "outputs": []
    },
    {
      "cell_type": "markdown",
      "source": [
        "\n",
        "We can also **combine** `for` loops and `if` statements!"
      ],
      "metadata": {
        "id": "P_qm6hT0SpGw"
      }
    },
    {
      "cell_type": "code",
      "source": [
        "for x in rockaway_species:\n",
        "  if len(x) == 7:\n",
        "    print(x)"
      ],
      "metadata": {
        "id": "GFXga0sOScve"
      },
      "execution_count": null,
      "outputs": []
    },
    {
      "cell_type": "markdown",
      "source": [
        "What exactly is this code doing?\n",
        "> This code prints `x`, if the length of `x` is equal to `7`, for each `x` in the `rockaway_species` list.\n",
        ">\n",
        "> OR, worded another way:\n",
        ">\n",
        "> For each item `x` in our `rockaway_species` list, if the length of `x` is equal to `7`, the code will print `x`.\n",
        "\n",
        "Try creating your own combination of a `for` loop and `if` statement below!\n"
      ],
      "metadata": {
        "id": "QWorVV5aS0iG"
      }
    },
    {
      "cell_type": "code",
      "source": [
        "# your code here\n"
      ],
      "metadata": {
        "id": "gmQcoaWzT0C2"
      },
      "execution_count": null,
      "outputs": []
    },
    {
      "cell_type": "markdown",
      "source": [
        "The End! See you next week :)"
      ],
      "metadata": {
        "id": "b1JNl3V8TRly"
      }
    }
  ]
}