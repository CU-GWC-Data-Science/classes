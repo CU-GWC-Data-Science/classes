{
  "cells": [
    {
      "cell_type": "markdown",
      "metadata": {
        "id": "view-in-github",
        "colab_type": "text"
      },
      "source": [
        "<a href=\"https://colab.research.google.com/github/CU-GWC-Data-Science/classes/blob/main/Intro_to_packages.ipynb\" target=\"_parent\"><img src=\"https://colab.research.google.com/assets/colab-badge.svg\" alt=\"Open In Colab\"/></a>"
      ]
    },
    {
      "cell_type": "markdown",
      "id": "c5a1ccab-a3dd-43ab-b3e8-7ad88bf8a0f2",
      "metadata": {
        "id": "c5a1ccab-a3dd-43ab-b3e8-7ad88bf8a0f2"
      },
      "source": [
        "# Oceanography and Python Packages\n"
      ]
    },
    {
      "cell_type": "markdown",
      "id": "c70ac3f6-c26e-4198-b18e-2096601de0be",
      "metadata": {
        "id": "c70ac3f6-c26e-4198-b18e-2096601de0be"
      },
      "source": [
        "<img src=\"https://media.giphy.com/media/xT0GqcCJJJH12hJvGM/giphy.gif\" width=\"300\" height=\"200\">"
      ]
    },
    {
      "cell_type": "markdown",
      "id": "26539ac6-ba3d-452a-aebf-b8ff5eeaf78f",
      "metadata": {
        "id": "26539ac6-ba3d-452a-aebf-b8ff5eeaf78f"
      },
      "source": [
        "Did you know microscopic algae in the ocean called phytoplankton are responsible for half of the oxygen we breath? Or that sea ice forming in Antarctica helps drive ocean-wide conveyer belt of heat and carbon? Or that we have complex simulations of the Earth that run on supercomputers and help us predict the future climate? \n",
        "<br> All these things and much, much more fall under the broad field of study we call ~ Oceanography ~"
      ]
    },
    {
      "cell_type": "markdown",
      "id": "ad70b109-db6f-4fd2-bf04-10248f8fb348",
      "metadata": {
        "id": "ad70b109-db6f-4fd2-bf04-10248f8fb348"
      },
      "source": [
        "<img src=\"https://frontiersinblog.files.wordpress.com/2020/11/frontiers-in-marine-science-phytoplankton-bloom-arctic-sea-ice.png?w=1200\" width=\"400\" height=\"300\">\n",
        "<sup><sub>Phytoplankton under a microscope. Aren't they cute??  (<a href=\"https://blog.frontiersin.org/2020/11/19/marine-science-synthesis-study-showsphytoplankton-can-bloom-below-arctic-sea-ice/\">Source</a>)</sub></sup>"
      ]
    },
    {
      "cell_type": "markdown",
      "id": "5cf62188-a0fe-46cf-9e11-be9b0497f67d",
      "metadata": {
        "id": "5cf62188-a0fe-46cf-9e11-be9b0497f67d"
      },
      "source": [
        ">\"Oceanography is the study of the physical, chemical, and biological features of the ocean, including the ocean’s ancient history, its current condition, and its future.\"\n",
        "\n",
        "-National Geographic (<a href=\"https://www.nationalgeographic.org/encyclopedia/oceanography//\">Source</a>) "
      ]
    },
    {
      "cell_type": "markdown",
      "id": "8d4a803d-411e-4ffd-ae2e-c9bb3688b02d",
      "metadata": {
        "id": "8d4a803d-411e-4ffd-ae2e-c9bb3688b02d"
      },
      "source": [
        "## Today we are going to learn about software packages in python and use them to work with some oceanographic data!\n",
        "## But first, icebreaker:"
      ]
    },
    {
      "cell_type": "markdown",
      "id": "96a94cea-718b-4695-aefe-f3cf2ce4de08",
      "metadata": {
        "id": "96a94cea-718b-4695-aefe-f3cf2ce4de08"
      },
      "source": [
        "<img src=\"https://media.giphy.com/media/tyttpH01yNOp8PezC6c/giphy-downsized-large.gif\" width=\"300\" height=\"200\">\n"
      ]
    },
    {
      "cell_type": "markdown",
      "id": "3b780800-9522-4a99-a5c9-39d2ec9d2e0b",
      "metadata": {
        "id": "3b780800-9522-4a99-a5c9-39d2ec9d2e0b"
      },
      "source": [
        "> 1. What's your favorite thing to do in/around the ocean?\n",
        ">\n",
        "> 2. If I go swimming at Rockaway Beach, which ocean am I in? \n",
        ">\n",
        "> 3. If I go swimming in Antarctica... which ocean am I in? \n",
        ">\n",
        "> 4. How cold do you think the surface water in Antarctica gets? How about at the equator?\n",
        ">\n",
        "> 5. Why is the ocean at the equator warmer than at the poles?"
      ]
    },
    {
      "cell_type": "code",
      "execution_count": null,
      "id": "61f42e09-9ba4-4749-a1f3-0b551ec5e860",
      "metadata": {
        "id": "61f42e09-9ba4-4749-a1f3-0b551ec5e860"
      },
      "outputs": [],
      "source": [
        "# Scroll down for answers\n",
        "#\n",
        "#\n",
        "#\n",
        "#\n",
        "#\n",
        "# 1. The correct answer is building sand castles. \n",
        "# 2. Rockaway Beach is on the coast of the Atlantic Ocean\n",
        "# 3. Antarctica is surrounded by the Southern Ocean\n",
        "# 4. The surface ocean in Antarctica can get as cold as -2 degrees Celcius (~28 degrees Fahrenheit). That's below freezing!! \n",
        "#       The salt content in the water depresses the usual freezing point of water, allowing it to get below 32 degrees F. \n",
        "#       The equator is a much balmier 30 degrees Celcius (~86 degrees Fahrenheit)\n",
        "# 5. The equator is warmer because it recieves more solar insolation (sunlight). "
      ]
    },
    {
      "cell_type": "markdown",
      "id": "9f6a8c8c-8c7f-4629-ba80-19cc4b37f67a",
      "metadata": {
        "id": "9f6a8c8c-8c7f-4629-ba80-19cc4b37f67a"
      },
      "source": [
        "## Python Packages\n",
        "\n",
        "Python packages, also called \"libraries\", are software packages put together by the data analysis community to add additional functionality to python. In oceanography and many other analytical fields, we rely heavily on packages such as NumPy, Matplotlib, and Pandas for our data analysis. <br>\n",
        "You can think of packages like video game expansion packs or downloadable content (DLC). You have Python, which is the base game, and expansion backs/DLC that add additional functionality.\n"
      ]
    },
    {
      "cell_type": "markdown",
      "id": "d83509e5-0083-44af-8466-8a9d6e397f0d",
      "metadata": {
        "id": "d83509e5-0083-44af-8466-8a9d6e397f0d"
      },
      "source": [
        "## The first package we'll learn about is NumPy, which is short for Numerical Python.\n",
        "<img src='https://avatars.githubusercontent.com/u/288276?s=200&v=4' width=\"120\" height=\"50\" />\n",
        "\n",
        "Before we can do anything with a package, we have to import it! The syntax for this is simply: <br><br>\n",
        "`import` *nameofpackage* `as` *nickname* \n",
        "\n",
        "So to import numpy, we will write: <br><br>\n",
        "`import numpy as np` <br>\n",
        "\n",
        "It is not necessary to assign a nickname to packages, but you'll see why its handy later on."
      ]
    },
    {
      "cell_type": "code",
      "execution_count": null,
      "id": "c6c756da-9205-495b-867c-dd5d03c324e1",
      "metadata": {
        "id": "c6c756da-9205-495b-867c-dd5d03c324e1"
      },
      "outputs": [],
      "source": [
        "# import the NumPy package here by typing the above line\n"
      ]
    },
    {
      "cell_type": "markdown",
      "id": "51b2da75-5b25-4b3e-a2a0-4417ea5443da",
      "metadata": {
        "id": "51b2da75-5b25-4b3e-a2a0-4417ea5443da"
      },
      "source": [
        "## Now that you've imported NumPy into your workspace, all of its many functions are at your fingertips!"
      ]
    },
    {
      "cell_type": "markdown",
      "id": "50af64b1-0eec-4233-9cfe-bc3e09da30e1",
      "metadata": {
        "id": "50af64b1-0eec-4233-9cfe-bc3e09da30e1"
      },
      "source": [
        " NumPy is all about working with data in arrays. What's an array? It's a row, column, or matrix of data. Let's learn our first NumPy function and create an array."
      ]
    },
    {
      "cell_type": "code",
      "execution_count": null,
      "id": "cfd7ebab-fcee-453d-9970-ac74eef39335",
      "metadata": {
        "id": "cfd7ebab-fcee-453d-9970-ac74eef39335",
        "outputId": "06b99744-cc70-4e28-9b48-d2d7d89443e5"
      },
      "outputs": [
        {
          "data": {
            "text/plain": [
              "array([1, 2, 3, 4])"
            ]
          },
          "execution_count": 14,
          "metadata": {},
          "output_type": "execute_result"
        }
      ],
      "source": [
        "#Here we're taking a simple list and turning it into a numpy array \n",
        "\n",
        "example_list = [1,2,3,4] # define the list\n",
        "\n",
        "example_array = np.array(list) # use NumPy's \"array\" function to convert the list into a NumPy array object. Assign it the name \"example_array\"\n",
        "example_array #print example_array"
      ]
    },
    {
      "cell_type": "markdown",
      "id": "65937d00-f92e-4514-852f-0502cdaea558",
      "metadata": {
        "id": "65937d00-f92e-4514-852f-0502cdaea558"
      },
      "source": [
        "Just like `lists` are a data object, arrays in NumPy are called `ndarrays`, short for n-dimensional array (n being a number)."
      ]
    },
    {
      "cell_type": "code",
      "execution_count": null,
      "id": "8f439182-3382-4c11-b83b-4b227d866550",
      "metadata": {
        "id": "8f439182-3382-4c11-b83b-4b227d866550",
        "outputId": "e9da80b0-824a-4de7-cd84-2103d09b4071"
      },
      "outputs": [
        {
          "data": {
            "text/plain": [
              "numpy.ndarray"
            ]
          },
          "execution_count": 210,
          "metadata": {},
          "output_type": "execute_result"
        }
      ],
      "source": [
        "type(example_array)"
      ]
    },
    {
      "cell_type": "markdown",
      "id": "c296b17f-e4ba-4550-9ba5-df98c2a7ef4c",
      "metadata": {
        "id": "c296b17f-e4ba-4550-9ba5-df98c2a7ef4c"
      },
      "source": [
        "\n",
        "## Function are accessed using dot notation and inputs into the function go between the parenthesis. \n",
        "\n",
        "For example, if I want to us `np.min()` to find the minimum value of our example_list, I write: <br><br>\n",
        "`np.min(example_list)` <br>\n",
        "Here we are accessing the `.min()` function from the NumPy library using dot notation, and inputting example_list. <br><br>\n",
        "These are some more basic numpy functions: <br><br>\n",
        "`np.min()` - calculates the minimum of an array <br>\n",
        "`np.max()` - calculates the max <br>\n",
        "`np.mean()` - calculate the mean value <br>\n",
        "`np.median()` - calculate the median <br>"
      ]
    },
    {
      "cell_type": "code",
      "execution_count": 1,
      "id": "3b3499f2-37e3-42c1-a9c8-861a3565387f",
      "metadata": {
        "id": "3b3499f2-37e3-42c1-a9c8-861a3565387f"
      },
      "outputs": [],
      "source": [
        "# Use the above functions to find the minimum, maximum, mean, and median of example_list!\n"
      ]
    },
    {
      "cell_type": "markdown",
      "id": "41854f89-d8a9-4afa-ad9e-2b95672a09e9",
      "metadata": {
        "id": "41854f89-d8a9-4afa-ad9e-2b95672a09e9"
      },
      "source": [
        "Do you see why we use \"np\" to call NumPy? It's easier to type out each time than the full name of the package, and we're all about efficiency in coding. "
      ]
    },
    {
      "cell_type": "markdown",
      "id": "80792bcb-868a-4cf6-b609-6b644706a9d4",
      "metadata": {
        "id": "80792bcb-868a-4cf6-b609-6b644706a9d4"
      },
      "source": [
        "<img src=\"https://media.giphy.com/media/IdrPndu51edqSiTJPg/giphy.gif\" width=\"300\" height=\"200\">"
      ]
    },
    {
      "cell_type": "markdown",
      "id": "bb9dafb1-9e21-426f-b8a1-d8f4d7187ca1",
      "metadata": {
        "id": "bb9dafb1-9e21-426f-b8a1-d8f4d7187ca1"
      },
      "source": [
        "## We can also perform algebra on our array."
      ]
    },
    {
      "cell_type": "code",
      "execution_count": null,
      "id": "81fd95d4-d271-4d98-839e-4e8f05a6fc75",
      "metadata": {
        "id": "81fd95d4-d271-4d98-839e-4e8f05a6fc75",
        "outputId": "3a764d2d-0119-40bf-a92a-a7a94022083d"
      },
      "outputs": [
        {
          "data": {
            "text/plain": [
              "array([2, 4, 6, 8])"
            ]
          },
          "execution_count": 10,
          "metadata": {},
          "output_type": "execute_result"
        }
      ],
      "source": [
        "2*example_array # multiply our array by 2"
      ]
    },
    {
      "cell_type": "code",
      "execution_count": null,
      "id": "db0dfc04-51c9-4524-a9a6-18a7fc709df0",
      "metadata": {
        "id": "db0dfc04-51c9-4524-a9a6-18a7fc709df0",
        "outputId": "cadd0034-f4e0-47fd-d8ae-bf00c9e48f11"
      },
      "outputs": [
        {
          "data": {
            "text/plain": [
              "array([ 3.14159265,  6.28318531,  9.42477796, 12.56637061])"
            ]
          },
          "execution_count": 37,
          "metadata": {},
          "output_type": "execute_result"
        }
      ],
      "source": [
        "np.pi*example_array # multiply our array by Pi"
      ]
    },
    {
      "cell_type": "markdown",
      "id": "f92670f3-9168-4192-a601-286cfee3d0ec",
      "metadata": {
        "id": "f92670f3-9168-4192-a601-286cfee3d0ec"
      },
      "source": [
        "How do you think we could divide example_array by 2?"
      ]
    },
    {
      "cell_type": "code",
      "execution_count": null,
      "id": "5684942a-f9e3-4a42-bc5d-30c33bd33296",
      "metadata": {
        "id": "5684942a-f9e3-4a42-bc5d-30c33bd33296"
      },
      "outputs": [],
      "source": [
        "# try it out here\n"
      ]
    },
    {
      "cell_type": "code",
      "execution_count": null,
      "id": "165b9966-a173-4d5a-a705-5657f001350e",
      "metadata": {
        "id": "165b9966-a173-4d5a-a705-5657f001350e",
        "outputId": "f49f61ab-430c-41f5-9c29-aaff02c4dfc9"
      },
      "outputs": [
        {
          "data": {
            "text/plain": [
              "array([ 1,  4,  9, 16])"
            ]
          },
          "execution_count": 208,
          "metadata": {},
          "output_type": "execute_result"
        }
      ],
      "source": [
        "example_array*example_array # multiply our array by itself"
      ]
    },
    {
      "cell_type": "markdown",
      "id": "b7478f41-89da-491e-b513-5d8ad27476e5",
      "metadata": {
        "id": "b7478f41-89da-491e-b513-5d8ad27476e5"
      },
      "source": [
        "Test it all out! Make a list containing four numbers (call it anything you want), use np.array() to make it into an `ndarray`, then multiply our example_array by your new array."
      ]
    },
    {
      "cell_type": "code",
      "execution_count": null,
      "id": "cabdf506-3c2e-4dba-a9d8-52bc01b27110",
      "metadata": {
        "id": "cabdf506-3c2e-4dba-a9d8-52bc01b27110"
      },
      "outputs": [],
      "source": [
        "#Your code here\n",
        "\n"
      ]
    },
    {
      "cell_type": "markdown",
      "id": "2c970542-12bc-42f0-8b32-368c3d0031fe",
      "metadata": {
        "id": "2c970542-12bc-42f0-8b32-368c3d0031fe"
      },
      "source": [
        "## Using `np.linspace()` and `np.arange()` to create ranges of data.\n",
        "These two functions come up often since they are quick ways to create arrays containing a range of data.<br>\n",
        "For example:\n"
      ]
    },
    {
      "cell_type": "code",
      "execution_count": null,
      "id": "fda96b45-72df-4095-9be9-21c71d5d2c99",
      "metadata": {
        "id": "fda96b45-72df-4095-9be9-21c71d5d2c99",
        "outputId": "060255e5-5f26-47ee-a975-e7a26e5a3397"
      },
      "outputs": [
        {
          "data": {
            "text/plain": [
              "array([ 1.  ,  3.25,  5.5 ,  7.75, 10.  ])"
            ]
          },
          "execution_count": 25,
          "metadata": {},
          "output_type": "execute_result"
        }
      ],
      "source": [
        "np.linspace(1,10,5) # here I am telling it to create an array from 1 to 10 that contains 5 evenly-spaced values"
      ]
    },
    {
      "cell_type": "code",
      "execution_count": null,
      "id": "e8125cdd-b20f-4830-8945-6792b929bfcb",
      "metadata": {
        "id": "e8125cdd-b20f-4830-8945-6792b929bfcb",
        "outputId": "5f63290c-ccdc-44e3-a13d-ae717f38f2a8"
      },
      "outputs": [
        {
          "data": {
            "text/plain": [
              "array([1, 3, 5, 7, 9])"
            ]
          },
          "execution_count": 35,
          "metadata": {},
          "output_type": "execute_result"
        }
      ],
      "source": [
        "np.arange(1,10,2) # I am telling the function to give me an array from 1 to 10 with steps of 2"
      ]
    },
    {
      "cell_type": "markdown",
      "id": "80a7d762-7e48-4479-88a2-d9a4a70479cc",
      "metadata": {
        "id": "80a7d762-7e48-4479-88a2-d9a4a70479cc"
      },
      "source": [
        "If I forget the input format of np.linspace(), np.arange(), or any other function in Python, I can simply call its documentation with a question mark."
      ]
    },
    {
      "cell_type": "code",
      "execution_count": null,
      "id": "4ac9ecfb-817a-46f8-955a-41e81d6060ae",
      "metadata": {
        "id": "4ac9ecfb-817a-46f8-955a-41e81d6060ae",
        "outputId": "2d2ecf28-a305-4706-e561-c198664871e1"
      },
      "outputs": [
        {
          "data": {
            "text/plain": [
              "\u001b[1;31mDocstring:\u001b[0m\n",
              "arange([start,] stop[, step,], dtype=None, *, like=None)\n",
              "\n",
              "Return evenly spaced values within a given interval.\n",
              "\n",
              "Values are generated within the half-open interval ``[start, stop)``\n",
              "(in other words, the interval including `start` but excluding `stop`).\n",
              "For integer arguments the function is equivalent to the Python built-in\n",
              "`range` function, but returns an ndarray rather than a list.\n",
              "\n",
              "When using a non-integer step, such as 0.1, the results will often not\n",
              "be consistent.  It is better to use `numpy.linspace` for these cases.\n",
              "\n",
              "Parameters\n",
              "----------\n",
              "start : integer or real, optional\n",
              "    Start of interval.  The interval includes this value.  The default\n",
              "    start value is 0.\n",
              "stop : integer or real\n",
              "    End of interval.  The interval does not include this value, except\n",
              "    in some cases where `step` is not an integer and floating point\n",
              "    round-off affects the length of `out`.\n",
              "step : integer or real, optional\n",
              "    Spacing between values.  For any output `out`, this is the distance\n",
              "    between two adjacent values, ``out[i+1] - out[i]``.  The default\n",
              "    step size is 1.  If `step` is specified as a position argument,\n",
              "    `start` must also be given.\n",
              "dtype : dtype\n",
              "    The type of the output array.  If `dtype` is not given, infer the data\n",
              "    type from the other input arguments.\n",
              "like : array_like\n",
              "    Reference object to allow the creation of arrays which are not\n",
              "    NumPy arrays. If an array-like passed in as ``like`` supports\n",
              "    the ``__array_function__`` protocol, the result will be defined\n",
              "    by it. In this case, it ensures the creation of an array object\n",
              "    compatible with that passed in via this argument.\n",
              "\n",
              "    .. note::\n",
              "        The ``like`` keyword is an experimental feature pending on\n",
              "        acceptance of :ref:`NEP 35 <NEP35>`.\n",
              "\n",
              "    .. versionadded:: 1.20.0\n",
              "\n",
              "Returns\n",
              "-------\n",
              "arange : ndarray\n",
              "    Array of evenly spaced values.\n",
              "\n",
              "    For floating point arguments, the length of the result is\n",
              "    ``ceil((stop - start)/step)``.  Because of floating point overflow,\n",
              "    this rule may result in the last element of `out` being greater\n",
              "    than `stop`.\n",
              "\n",
              "See Also\n",
              "--------\n",
              "numpy.linspace : Evenly spaced numbers with careful handling of endpoints.\n",
              "numpy.ogrid: Arrays of evenly spaced numbers in N-dimensions.\n",
              "numpy.mgrid: Grid-shaped arrays of evenly spaced numbers in N-dimensions.\n",
              "\n",
              "Examples\n",
              "--------\n",
              ">>> np.arange(3)\n",
              "array([0, 1, 2])\n",
              ">>> np.arange(3.0)\n",
              "array([ 0.,  1.,  2.])\n",
              ">>> np.arange(3,7)\n",
              "array([3, 4, 5, 6])\n",
              ">>> np.arange(3,7,2)\n",
              "array([3, 5])\n",
              "\u001b[1;31mType:\u001b[0m      builtin_function_or_method\n"
            ]
          },
          "metadata": {},
          "output_type": "display_data"
        }
      ],
      "source": [
        "np.arange? #try this with some other functions you know!"
      ]
    },
    {
      "cell_type": "markdown",
      "id": "27aa5a58-0e82-41bb-bd00-1e058c0b54e2",
      "metadata": {
        "id": "27aa5a58-0e82-41bb-bd00-1e058c0b54e2"
      },
      "source": [
        "## Lastely, we can create a 2-dimensional array, called a matrix \n",
        "\n",
        "<img src=\"https://media.giphy.com/media/MC6eSuC3yypCU/giphy.gif\" width=\"300\" height=\"200\">"
      ]
    },
    {
      "cell_type": "code",
      "execution_count": null,
      "id": "5d0216fc-c192-4deb-bc81-b3f6aa447513",
      "metadata": {
        "id": "5d0216fc-c192-4deb-bc81-b3f6aa447513"
      },
      "outputs": [],
      "source": [
        "#let's first create a 2D list\n",
        "\n",
        "example_list = [[1,2,3],[4,5,6],[7,8,9]] #this is a matrix containing three arrays - [1,2,3] and [4,5,6] and [7,8,9] - stacked on top of eachtother\n",
        "\n",
        "# now convert example_list to an ndarray using our np.array() function\n",
        "\n",
        "example_matrix =      #  <----- your code here\n",
        "\n",
        "# now print example_matrix so we can see what it looks like!\n",
        "\n",
        "                      #  <----- your code here"
      ]
    },
    {
      "cell_type": "markdown",
      "id": "0fe52d36-b613-4446-99aa-b7eba8c3599e",
      "metadata": {
        "id": "0fe52d36-b613-4446-99aa-b7eba8c3599e"
      },
      "source": [
        "As you can see, our matrix contains 9 elements, laid out in 3 rows and 3 columns. You can check the shape of any array, 1D or 2D, with `np.shape()`"
      ]
    },
    {
      "cell_type": "code",
      "execution_count": null,
      "id": "23e4a2fd-8a58-4388-9850-8f00a7b1f19d",
      "metadata": {
        "id": "23e4a2fd-8a58-4388-9850-8f00a7b1f19d",
        "outputId": "65ba6d6b-5e05-4bef-8f4f-e4219f7323b9"
      },
      "outputs": [
        {
          "data": {
            "text/plain": [
              "(3, 3)"
            ]
          },
          "execution_count": 48,
          "metadata": {},
          "output_type": "execute_result"
        }
      ],
      "source": [
        "#like this!\n",
        "np.shape(example_matrix)"
      ]
    },
    {
      "cell_type": "markdown",
      "id": "57b35080-dd50-471a-adfd-25a1d5bab34a",
      "metadata": {
        "id": "57b35080-dd50-471a-adfd-25a1d5bab34a"
      },
      "source": [
        "## Indexing an `ndarray`."
      ]
    },
    {
      "cell_type": "markdown",
      "id": "253860eb-71b9-4505-b1ad-8b43c2b20a2e",
      "metadata": {
        "id": "253860eb-71b9-4505-b1ad-8b43c2b20a2e"
      },
      "source": [
        "You can index into a matrix by using brackers and specifying a row and column. For example:"
      ]
    },
    {
      "cell_type": "code",
      "execution_count": null,
      "id": "ead562c1-c97e-4bfd-932f-4d0c3c75367d",
      "metadata": {
        "id": "ead562c1-c97e-4bfd-932f-4d0c3c75367d",
        "outputId": "5890c4eb-d4b8-4f26-9b1e-ecbfd24cb983"
      },
      "outputs": [
        {
          "data": {
            "text/plain": [
              "1"
            ]
          },
          "execution_count": 46,
          "metadata": {},
          "output_type": "execute_result"
        }
      ],
      "source": [
        "example_matrix[0,0] #gives me the number in 0th row, and 0th column"
      ]
    },
    {
      "cell_type": "code",
      "execution_count": null,
      "id": "7ddde484-166b-4d84-b365-dac4b878a383",
      "metadata": {
        "id": "7ddde484-166b-4d84-b365-dac4b878a383"
      },
      "outputs": [],
      "source": [
        "#How would I index into example_matrix to retrieve the value of 7?\n",
        "\n"
      ]
    },
    {
      "cell_type": "markdown",
      "id": "eff7d8aa-4eaa-45e3-8a55-1af1fbe1340f",
      "metadata": {
        "id": "eff7d8aa-4eaa-45e3-8a55-1af1fbe1340f"
      },
      "source": [
        "## This is just the tip of the iceberg with NumPy - it is a powerful tool. \n",
        "But with the basic functions you've learned here, you can already do some cool things. Let's recap: <br><br>\n",
        "`np.array()` - creates an ndarray from an input object <br>\n",
        "`np.min()` - calculates the minimum of an array <br>\n",
        "`np.max()` - calculates the max <br>\n",
        "`np.mean()` - calculate the mean value <br>\n",
        "`np.median()` - calculate the median <br>\n",
        "`np.pi` - returns the value of Pi <br>\n",
        "`np.linspace()` - creates an array of evenly spaced numbers in a specified range containing a specified number of entries <br>\n",
        "`np.arange()`  - creates an array of evenly spaced numbers in a specified range with a specified step between entries  <br>\n",
        "`np.shape()` - gives you the number of rows and columns in the input array"
      ]
    },
    {
      "cell_type": "markdown",
      "id": "8e9e3711-095e-4556-bccd-af90bf85c836",
      "metadata": {
        "id": "8e9e3711-095e-4556-bccd-af90bf85c836"
      },
      "source": [
        "## Now, let's bring in the Matplotlib package to visualize some of these arrays from NumPy!"
      ]
    },
    {
      "cell_type": "markdown",
      "id": "cd3dbd42-47f1-4b8b-a437-acb607e5063c",
      "metadata": {
        "id": "cd3dbd42-47f1-4b8b-a437-acb607e5063c"
      },
      "source": [
        "<img src='https://matplotlib.org/_static/images/logo2.svg' width=\"250\" height=\"50\" />\n",
        "Matplotlib is all about plotting data. Its core module, pyplot, is usually imported as: <br>\n",
        "\n",
        "`import matplotlib.pyplot as plt`\n"
      ]
    },
    {
      "cell_type": "code",
      "execution_count": null,
      "id": "1f511b85-dbb1-402a-a5a9-55b90a526589",
      "metadata": {
        "id": "1f511b85-dbb1-402a-a5a9-55b90a526589"
      },
      "outputs": [],
      "source": [
        " #import matplotlib.pyplot here\n"
      ]
    },
    {
      "cell_type": "markdown",
      "id": "87e3b8f2-583b-4f65-a242-d35c8bcda3a6",
      "metadata": {
        "id": "87e3b8f2-583b-4f65-a242-d35c8bcda3a6"
      },
      "source": [
        "The first matplotlib function we'll learn is `plt.plot()`, which plots y vs x with lines and/or markers. "
      ]
    },
    {
      "cell_type": "code",
      "execution_count": null,
      "id": "94f9db52-fccb-41da-ab78-4aad308ab5ab",
      "metadata": {
        "id": "94f9db52-fccb-41da-ab78-4aad308ab5ab",
        "outputId": "271e6c82-ac8e-45b6-b659-4d01469b9137"
      },
      "outputs": [
        {
          "data": {
            "text/plain": [
              "[<matplotlib.lines.Line2D at 0x1f832f30790>]"
            ]
          },
          "execution_count": 211,
          "metadata": {},
          "output_type": "execute_result"
        },
        {
          "data": {
            "image/png": "[encoded data removed]",
            "text/plain": [
              "<Figure size 432x288 with 1 Axes>"
            ]
          },
          "metadata": {
            "needs_background": "light"
          },
          "output_type": "display_data"
        }
      ],
      "source": [
        "x = np.linspace(1,100,50) #define our x data\n",
        "y = np.linspace(100,1,50) #define our y data\n",
        "plt.plot(x,y) # plot y vs x with circular markers "
      ]
    },
    {
      "cell_type": "markdown",
      "id": "7f587c68-02aa-4664-b262-68a5342070e0",
      "metadata": {
        "id": "7f587c68-02aa-4664-b262-68a5342070e0"
      },
      "source": [
        "What if we want dots instead of a line? Add `'.'` as an input into the `plt.plot()` function in the code above, and re-run the cell.\n",
        "<br>\n",
        "Now create your own x and y `ndarrays` and plot them using `plt.plot()`:"
      ]
    },
    {
      "cell_type": "code",
      "execution_count": null,
      "id": "2c37fee1-d3a0-4b9c-ae2b-cb1f0044e3ba",
      "metadata": {
        "id": "2c37fee1-d3a0-4b9c-ae2b-cb1f0044e3ba"
      },
      "outputs": [],
      "source": [
        "# your code here\n",
        "\n",
        "\n",
        "\n"
      ]
    },
    {
      "cell_type": "markdown",
      "id": "c68bd181-f1ab-4e11-99ed-596780ffc3f8",
      "metadata": {
        "id": "c68bd181-f1ab-4e11-99ed-596780ffc3f8"
      },
      "source": [
        "Another useful function is `np.pcolor`, which creates pseudocolor maps of data in matrix form. Lets test it on our example_matrix from earlier!"
      ]
    },
    {
      "cell_type": "code",
      "execution_count": null,
      "id": "72605e13-c04e-4435-84d1-483f448d45cb",
      "metadata": {
        "id": "72605e13-c04e-4435-84d1-483f448d45cb",
        "outputId": "b18ac23c-b11a-46fe-abae-b931d17efa88"
      },
      "outputs": [
        {
          "name": "stdout",
          "output_type": "stream",
          "text": [
            "[[1 2 3]\n",
            " [4 5 6]\n",
            " [7 8 9]]\n"
          ]
        },
        {
          "data": {
            "text/plain": [
              "<matplotlib.collections.PolyCollection at 0x1f8312a8a60>"
            ]
          },
          "execution_count": 91,
          "metadata": {},
          "output_type": "execute_result"
        },
        {
          "data": {
            "image/png": "[encoded data removed]",
            "text/plain": [
              "<Figure size 432x288 with 1 Axes>"
            ]
          },
          "metadata": {
            "needs_background": "light"
          },
          "output_type": "display_data"
        }
      ],
      "source": [
        "print(example_matrix)\n",
        "plt.pcolor(example_matrix) "
      ]
    },
    {
      "cell_type": "markdown",
      "id": "a9a9e068-eee5-45a9-b40b-c155e5db3ecf",
      "metadata": {
        "id": "a9a9e068-eee5-45a9-b40b-c155e5db3ecf"
      },
      "source": [
        "Here each number in example_matrix is represented by a different color."
      ]
    },
    {
      "cell_type": "markdown",
      "id": "bd64167e-a18f-40c0-86a8-9fb439eea3cf",
      "metadata": {
        "id": "bd64167e-a18f-40c0-86a8-9fb439eea3cf"
      },
      "source": [
        "## Let's try plotting some real data\n",
        "These temperature data were collected by lowering a suite of scientific sensors into the water at a fixed location. As the sensors sunk, they recorded depth (calculated from pressure) and temperature.  Often these sensors are attached to a metal frame that also contains water bottles for water sample collection. <br>\n",
        "\n",
        "<img src=\"https://schmidtocean.org/wp-content/uploads/ctdreleasedjustundersurface11-18-14markheckman-1140x855.jpg\" width=\"400\" height=\"300\">\n",
        "<sup><sub>This is called a conductivity, temperature, depth (CTD) rosette (<a href=\"https://schmidtocean.org/cruise-log-post/using-the-ctd-to-calibrate-the-multibeam-sonar/\">Source</a>)</sub></sup>\n"
      ]
    },
    {
      "cell_type": "code",
      "execution_count": null,
      "id": "be872378-adb9-491f-9b10-300ca01053fc",
      "metadata": {
        "id": "be872378-adb9-491f-9b10-300ca01053fc"
      },
      "outputs": [],
      "source": [
        "#Define our data arrays\n",
        "\n",
        "Temperature = np.array([29.0046, 25.4746, 23.8373, 22.8521, 22.0506, 21.1493, 20.9657,\n",
        "       18.384 , 17.1428, 14.9446, 13.3909, 11.8698, 11.2615, 10.4212,\n",
        "        9.8702,  9.4784,  8.3355,  8.2628,  8.0255,  7.6066,  7.4883,\n",
        "        7.0926,  6.9485,  6.7947,  6.6231,  6.5514,  6.4398,  6.3157,\n",
        "        6.2197,  6.1547,  6.117 ,  6.01  ,  5.9769,  5.6235,  5.1835,\n",
        "        5.142 ,  4.9442,  4.851 ,  4.7473,  4.7174,  4.5276])\n",
        "Depth = np.array([  1.989,  26.85 ,  51.708,  76.563, 101.415, 126.264, 151.109,\n",
        "       175.952, 200.792, 225.629, 250.463, 275.294, 300.122, 324.947,\n",
        "       349.768, 374.587, 399.403, 424.216, 449.026, 473.833, 498.637,\n",
        "       523.438, 548.236, 573.032, 597.824, 622.613, 647.399, 672.182,\n",
        "       696.962, 721.74 , 746.514, 771.286, 796.054, 820.82 , 845.583,\n",
        "       870.342, 895.099, 919.853, 944.604, 969.352, 994.097])"
      ]
    },
    {
      "cell_type": "code",
      "execution_count": null,
      "id": "1f6347d6-8103-4f3d-ab0b-8eb3afaec51c",
      "metadata": {
        "id": "1f6347d6-8103-4f3d-ab0b-8eb3afaec51c",
        "outputId": "8a66f5b4-ea09-4066-cdc2-c5fc8574e00b"
      },
      "outputs": [
        {
          "data": {
            "image/png": "[encoded data removed]",
            "text/plain": [
              "<Figure size 432x288 with 1 Axes>"
            ]
          },
          "metadata": {
            "needs_background": "light"
          },
          "output_type": "display_data"
        }
      ],
      "source": [
        "#Run this code to plot temperature against depth\n",
        "\n",
        "plt.plot(Temperature, Depth) #Plots Temperature on the y axis and Depth on the x axis\n",
        "\n",
        "plt.ylabel('Ocean Depth [meters below surface]') # Adds a label to the y axis\n",
        "plt.xlabel('Temperature [degrees Celcius]') # Adds a label to the y axis\n",
        "\n",
        "plt.gca().invert_yaxis() # Inverts the y axis so that depth is decending\n",
        "\n",
        "plt.grid() # Adds gridlines to the figure\n",
        "\n"
      ]
    },
    {
      "cell_type": "markdown",
      "id": "b5c6321e-b304-46b1-bb11-43250f4df16d",
      "metadata": {
        "id": "b5c6321e-b304-46b1-bb11-43250f4df16d"
      },
      "source": [
        "Is the temperature of the water warmest at the surface of the ocean or at the bottom? Why?"
      ]
    },
    {
      "cell_type": "markdown",
      "id": "8c43841b-f234-4975-9598-1c15d3b6064c",
      "metadata": {
        "id": "8c43841b-f234-4975-9598-1c15d3b6064c"
      },
      "source": [
        "## Just like with NumPy, there is so much more you can do with this package!\n",
        "We will leave you with these basics for now, but look forward to a lot of pretty figure making in the remaining classes. \n",
        "Let's recap:\n",
        "\n",
        "`plt.plot()` - plot x and y data as a line and/or markers <br>\n",
        "`plt.pcolor()` - turn a matrix into a pseudocolor plot <br>\n",
        "`plt.ylabel()` - adds a label to your y axis <br>\n",
        "`plt.xlabel()` - adds a label to your x axis <br>\n",
        "`plt.grid()` - adds gridlines to your plot <br>\n"
      ]
    },
    {
      "cell_type": "markdown",
      "id": "69685953-3a2b-444e-8911-c93f1387814e",
      "metadata": {
        "id": "69685953-3a2b-444e-8911-c93f1387814e"
      },
      "source": [
        "## Last but NOT least, the Pandas package\n",
        "\n",
        "<img src='https://warehouse-camo.ingress.cmh1.psfhosted.org/705545a847e60d6d4478c76a8146b9000e339c1c/68747470733a2f2f70616e6461732e7079646174612e6f72672f7374617469632f696d672f70616e6461732e737667' width=\"320\" height=\"50\" /> <br>\n",
        "\n",
        "The Pandas package allows us to import, clean, and analyze data. <br>\n",
        "`import pandas as pd`\n",
        "\n",
        "\n",
        "\n"
      ]
    },
    {
      "cell_type": "code",
      "execution_count": null,
      "id": "b82020a1-9339-402b-9564-4511d010a399",
      "metadata": {
        "id": "b82020a1-9339-402b-9564-4511d010a399"
      },
      "outputs": [],
      "source": [
        "#go ahead and import pandas\n"
      ]
    },
    {
      "cell_type": "markdown",
      "id": "5c5e83de-ef69-493f-9676-f034628402d5",
      "metadata": {
        "id": "5c5e83de-ef69-493f-9676-f034628402d5"
      },
      "source": [
        "Before we work with any data, let's learn about the fundamental objects in pandas, `Series` and `DataFrame`. <br>\n",
        "A `Series` is like our good friend `ndarray` from NumPy but with a key difference:"
      ]
    },
    {
      "cell_type": "code",
      "execution_count": null,
      "id": "b7cd45a3-c0af-49c3-941a-e960ead29f4b",
      "metadata": {
        "id": "b7cd45a3-c0af-49c3-941a-e960ead29f4b",
        "outputId": "a28730bc-30dc-4e10-a083-3525bc48f01d"
      },
      "outputs": [
        {
          "data": {
            "text/plain": [
              "array([1, 2, 3, 4])"
            ]
          },
          "execution_count": 99,
          "metadata": {},
          "output_type": "execute_result"
        }
      ],
      "source": [
        "# run to this create an ndarray like we did before\n",
        "np.array([1,2,3,4])"
      ]
    },
    {
      "cell_type": "code",
      "execution_count": null,
      "id": "3f167c1a-cb02-4ef0-aba4-f06244f8af84",
      "metadata": {
        "id": "3f167c1a-cb02-4ef0-aba4-f06244f8af84",
        "outputId": "7b2b9067-272f-4b75-b7be-ce483fd498dc"
      },
      "outputs": [
        {
          "data": {
            "text/plain": [
              "0    1\n",
              "1    2\n",
              "2    3\n",
              "3    4\n",
              "dtype: int64"
            ]
          },
          "execution_count": 96,
          "metadata": {},
          "output_type": "execute_result"
        }
      ],
      "source": [
        "#run this to create a brand new pandas Series\n",
        "pd.Series([1,2,3,4])"
      ]
    },
    {
      "cell_type": "markdown",
      "id": "92eebfbe-ee4f-46db-8ba4-8364cd20db5d",
      "metadata": {
        "id": "92eebfbe-ee4f-46db-8ba4-8364cd20db5d"
      },
      "source": [
        "The difference here is that the `Series` has a built-in index labels. Since we didn't assign index labels, the default \"0,1,2,3' have been applied. Let's re-create this `Series` with our own index labels now."
      ]
    },
    {
      "cell_type": "code",
      "execution_count": null,
      "id": "468f7f1a-fa32-42dd-9bbb-26a69c632e01",
      "metadata": {
        "id": "468f7f1a-fa32-42dd-9bbb-26a69c632e01",
        "outputId": "00d55d10-cbf9-44d4-ed89-808e831786c3"
      },
      "outputs": [
        {
          "data": {
            "text/plain": [
              "Dogs        1\n",
              "Cats        2\n",
              "Birds       3\n",
              "Hamsters    4\n",
              "dtype: int64"
            ]
          },
          "execution_count": 101,
          "metadata": {},
          "output_type": "execute_result"
        }
      ],
      "source": [
        "example_series = pd.Series([1,2,3,4],index=['Dogs', 'Cats', 'Birds', 'Hamsters'])\n",
        "example_series"
      ]
    },
    {
      "cell_type": "code",
      "execution_count": null,
      "id": "4f2d7ba3-51a9-4168-9f5a-cff736677e38",
      "metadata": {
        "id": "4f2d7ba3-51a9-4168-9f5a-cff736677e38",
        "outputId": "e7fa9560-9b40-4073-997e-207b6638cacf"
      },
      "outputs": [
        {
          "data": {
            "text/plain": [
              "1"
            ]
          },
          "execution_count": 118,
          "metadata": {},
          "output_type": "execute_result"
        }
      ],
      "source": [
        "# Now if I want the data associated with Dogs, I write\n",
        "example_series.loc['Dogs']"
      ]
    },
    {
      "cell_type": "markdown",
      "id": "43861215-25f5-4489-bf73-1cbd41afc3f5",
      "metadata": {
        "id": "43861215-25f5-4489-bf73-1cbd41afc3f5"
      },
      "source": [
        "This is the `.loc[]` function, which lets us index into a `Series` or `DataFrame`. If I want to index using just the row number, I use `.iloc[]`"
      ]
    },
    {
      "cell_type": "code",
      "execution_count": null,
      "id": "51fbb8c3-3a86-470e-85d9-c9fd51e99cd5",
      "metadata": {
        "id": "51fbb8c3-3a86-470e-85d9-c9fd51e99cd5",
        "outputId": "1f4e8f27-cdd9-4d8b-fc9b-f21c80577556"
      },
      "outputs": [
        {
          "data": {
            "text/plain": [
              "1"
            ]
          },
          "execution_count": 206,
          "metadata": {},
          "output_type": "execute_result"
        }
      ],
      "source": [
        "example_series.iloc[0]"
      ]
    },
    {
      "cell_type": "code",
      "execution_count": null,
      "id": "c81d5d0f-0a01-401f-bca0-bdb2abf79af9",
      "metadata": {
        "id": "c81d5d0f-0a01-401f-bca0-bdb2abf79af9"
      },
      "outputs": [],
      "source": [
        "# Try indexing for 'Birds'\n",
        "\n",
        "\n"
      ]
    },
    {
      "cell_type": "markdown",
      "id": "568491bd-365a-412b-8467-a79f4fb72ef1",
      "metadata": {
        "id": "568491bd-365a-412b-8467-a79f4fb72ef1"
      },
      "source": [
        "`DataFrames` are columns of `Series` aligned by index.\n",
        "\n",
        "<img src=\"https://storage.googleapis.com/lds-media/images/series-and-dataframe.width-1200.png\" width=\"400\" height=\"300\">\n",
        "<sup><sub>(<a href=\"https://www.learndatasci.com/tutorials/python-pandas-tutorial-complete-introduction-for-beginners/\">Source</a>)</sub></sup>\n"
      ]
    },
    {
      "cell_type": "markdown",
      "id": "e8bffb6a-12bd-480f-bc4e-8111dca41d08",
      "metadata": {
        "id": "e8bffb6a-12bd-480f-bc4e-8111dca41d08"
      },
      "source": [
        "## Let's build a `DataFrame` now. \n",
        "We're biological oceanographers collecting data on phytoplankton, those microscopic oragnisms responsible for 50% of the oxygen we breath. <br><br>\n",
        "<img src=\"https://media.giphy.com/media/2voMERSCQRqNqT2Kr3/giphy.gif\" width=\"400\" height=\"300\"> \n",
        "\n",
        "Phytoplankton contain chlorophyll to convert sunlight into food (like regular plants), so measuring the concentration of chlorophyll in the water serves as a proxy for phytoplankton concentrations, i.e. the higher the measured chlorophyll concentration, the more phytoplankton are present. Some phytoplankton create shells out of silicate in the water, so biogenic silica serves as an additional proxy. Phytoplankton require certain nutrients in the water, so nutrient concentrations are helpful to measure as well. <br>\n",
        "Here are the data we've collected at three stations (<a href=\"https://aslopubs-onlinelibrary-wiley-com.ezproxy.cul.columbia.edu/doi/epdf/10.4319/lo.2004.49.6.2095\">Source</a>): \n"
      ]
    },
    {
      "cell_type": "code",
      "execution_count": null,
      "id": "45577f9c-6d45-4ac9-9c37-bdb9ad56c37d",
      "metadata": {
        "id": "45577f9c-6d45-4ac9-9c37-bdb9ad56c37d"
      },
      "outputs": [],
      "source": [
        "#define the data first as lists\n",
        "dissolved_iron = [0.45, 0.41, 0.40] #Average concentration of dissoved iron in units of nano moles per liter \n",
        "nitrate_nitrite = [3.65, 4.96, 5.59] #Average concentration of nitrate and nitrite in units of micro moles per liter\n",
        "phosphate = [0.21, 0.32, 0.17] #units of micro moles per liter\n",
        "silicic_acid = [1.81, 1.90, 2.21] #units of micro moles per liter\n",
        "chlorophyll = [0.24, 0.58, 0.81 ] #units of micro grams per liter\n",
        "biogenic_silica = [0.046, 0.050, 0.103] #units of micro moles per liter\n",
        "\n",
        "#use the lists to create a dictionary (remember that data type?)\n",
        "data = {'dissolved_iron': dissolved_iron, 'nitrate_nitrite': nitrate_nitrite, 'phosphate': phosphate, 'silicic_acid': silicic_acid, \n",
        "        'chlorophyll': chlorophyll, 'biogenic_silica': biogenic_silica}\n"
      ]
    },
    {
      "cell_type": "markdown",
      "id": "80f70efe-71ca-4f13-9c63-53311cd23f88",
      "metadata": {
        "id": "80f70efe-71ca-4f13-9c63-53311cd23f88"
      },
      "source": [
        "Now we use `pd.DataFrame()` to create a `DataFrame` using this dictionary."
      ]
    },
    {
      "cell_type": "code",
      "execution_count": null,
      "id": "733e2388-8762-4e3b-bdfd-55ee63c6e90e",
      "metadata": {
        "id": "733e2388-8762-4e3b-bdfd-55ee63c6e90e",
        "outputId": "3029823f-ce07-4d59-bbc0-09722a10091e"
      },
      "outputs": [
        {
          "data": {
            "text/html": [
              "<div>\n",
              "<style scoped>\n",
              "    .dataframe tbody tr th:only-of-type {\n",
              "        vertical-align: middle;\n",
              "    }\n",
              "\n",
              "    .dataframe tbody tr th {\n",
              "        vertical-align: top;\n",
              "    }\n",
              "\n",
              "    .dataframe thead th {\n",
              "        text-align: right;\n",
              "    }\n",
              "</style>\n",
              "<table border=\"1\" class=\"dataframe\">\n",
              "  <thead>\n",
              "    <tr style=\"text-align: right;\">\n",
              "      <th></th>\n",
              "      <th>dissolved_iron</th>\n",
              "      <th>nitrate_nitrite</th>\n",
              "      <th>phosphate</th>\n",
              "      <th>silicic_acid</th>\n",
              "      <th>chlorophyll</th>\n",
              "      <th>biogenic_silica</th>\n",
              "    </tr>\n",
              "  </thead>\n",
              "  <tbody>\n",
              "    <tr>\n",
              "      <th>Station 1</th>\n",
              "      <td>0.45</td>\n",
              "      <td>3.65</td>\n",
              "      <td>0.21</td>\n",
              "      <td>1.81</td>\n",
              "      <td>0.24</td>\n",
              "      <td>0.046</td>\n",
              "    </tr>\n",
              "    <tr>\n",
              "      <th>Station 2</th>\n",
              "      <td>0.41</td>\n",
              "      <td>4.96</td>\n",
              "      <td>0.32</td>\n",
              "      <td>1.90</td>\n",
              "      <td>0.58</td>\n",
              "      <td>0.050</td>\n",
              "    </tr>\n",
              "    <tr>\n",
              "      <th>Station 3</th>\n",
              "      <td>0.40</td>\n",
              "      <td>5.59</td>\n",
              "      <td>0.17</td>\n",
              "      <td>2.21</td>\n",
              "      <td>0.81</td>\n",
              "      <td>0.103</td>\n",
              "    </tr>\n",
              "  </tbody>\n",
              "</table>\n",
              "</div>"
            ],
            "text/plain": [
              "           dissolved_iron  nitrate_nitrite  phosphate  silicic_acid  \\\n",
              "Station 1            0.45             3.65       0.21          1.81   \n",
              "Station 2            0.41             4.96       0.32          1.90   \n",
              "Station 3            0.40             5.59       0.17          2.21   \n",
              "\n",
              "           chlorophyll  biogenic_silica  \n",
              "Station 1         0.24            0.046  \n",
              "Station 2         0.58            0.050  \n",
              "Station 3         0.81            0.103  "
            ]
          },
          "execution_count": 171,
          "metadata": {},
          "output_type": "execute_result"
        }
      ],
      "source": [
        "example_dataframe = pd.DataFrame(data=data, index = ['Station 1', 'Station 2', 'Station 3'])\n",
        "example_dataframe"
      ]
    },
    {
      "cell_type": "markdown",
      "id": "34ec021f-6502-4b3d-9824-17078389ef94",
      "metadata": {
        "id": "34ec021f-6502-4b3d-9824-17078389ef94"
      },
      "source": [
        "How would you use the `.loc[]` command to look at just the data from Station 1?"
      ]
    },
    {
      "cell_type": "code",
      "execution_count": null,
      "id": "353fc264-da2a-40f8-a9b7-604381a5602a",
      "metadata": {
        "id": "353fc264-da2a-40f8-a9b7-604381a5602a"
      },
      "outputs": [],
      "source": [
        "# try it out here\n"
      ]
    },
    {
      "cell_type": "markdown",
      "id": "fa5a4b9a-d9bd-4669-8e5e-b11ba9b32d6e",
      "metadata": {
        "id": "fa5a4b9a-d9bd-4669-8e5e-b11ba9b32d6e"
      },
      "source": [
        "`.loc[]` allows us to access a particular row of data, such as Station 1. What if I want to access a column of data, like dissolved_iron? <br>\n",
        "You can index into the columns of `example_dataframe` like this:"
      ]
    },
    {
      "cell_type": "code",
      "execution_count": null,
      "id": "a4c9dfff-646e-4f42-ba65-b166ee81d42b",
      "metadata": {
        "id": "a4c9dfff-646e-4f42-ba65-b166ee81d42b",
        "outputId": "2041c6b1-b63d-4a93-fc89-1860c37b0937"
      },
      "outputs": [
        {
          "data": {
            "text/plain": [
              "Station 1      0.45\n",
              "Station 2      0.41\n",
              "Station 3       0.4\n",
              "Units        nmol/L\n",
              "Name: dissolved_iron, dtype: object"
            ]
          },
          "execution_count": 160,
          "metadata": {},
          "output_type": "execute_result"
        }
      ],
      "source": [
        "example_dataframe['dissolved_iron']"
      ]
    },
    {
      "cell_type": "markdown",
      "id": "393157e0-b8db-462e-ba42-79bbac0543ee",
      "metadata": {
        "id": "393157e0-b8db-462e-ba42-79bbac0543ee"
      },
      "source": [
        "Or equivalently, using dot syntax:"
      ]
    },
    {
      "cell_type": "code",
      "execution_count": null,
      "id": "a104ded6-a60e-4ba3-9bc2-e777eef43389",
      "metadata": {
        "id": "a104ded6-a60e-4ba3-9bc2-e777eef43389",
        "outputId": "b48e5c20-1afd-404e-ea5f-375e2ec54e4f"
      },
      "outputs": [
        {
          "data": {
            "text/plain": [
              "Station 1      0.45\n",
              "Station 2      0.41\n",
              "Station 3       0.4\n",
              "Units        nmol/L\n",
              "Name: dissolved_iron, dtype: object"
            ]
          },
          "execution_count": 161,
          "metadata": {},
          "output_type": "execute_result"
        }
      ],
      "source": [
        "example_dataframe.dissolved_iron"
      ]
    },
    {
      "cell_type": "markdown",
      "id": "d3ff7797-3ff7-426a-bc03-e8d67f4e044c",
      "metadata": {
        "id": "d3ff7797-3ff7-426a-bc03-e8d67f4e044c"
      },
      "source": [
        "## Pandas is actually built on top of NumPy \n",
        "(See how `Series` are like 1D `ndarrays` and `DataFrames` are like 2D `ndarrays`, just with added functionality?) Because Pandas is built on NumPy, we can use many of the NumPy functions we learned before, like `.min()` and `.max()`! <br>\n",
        "For example, if I want to find out what the lowest concentration of chlorophyll is:"
      ]
    },
    {
      "cell_type": "code",
      "execution_count": null,
      "id": "a3acd74c-680d-419b-96eb-204f37bc9de2",
      "metadata": {
        "id": "a3acd74c-680d-419b-96eb-204f37bc9de2",
        "outputId": "0b8e0e9a-1cc9-4d09-fcd8-ef50b974f589"
      },
      "outputs": [
        {
          "data": {
            "text/plain": [
              "0.24"
            ]
          },
          "execution_count": 213,
          "metadata": {},
          "output_type": "execute_result"
        }
      ],
      "source": [
        "example_dataframe.chlorophyll.min()"
      ]
    },
    {
      "cell_type": "markdown",
      "id": "c4c9cc13-9566-4b3b-b39e-f98b6050a132",
      "metadata": {
        "id": "c4c9cc13-9566-4b3b-b39e-f98b6050a132"
      },
      "source": [
        "It's great to know that the lowest concentration is 0.24 nano moles per liter. But which Station is this at? Here, we index using a logical statement, `==`"
      ]
    },
    {
      "cell_type": "code",
      "execution_count": null,
      "id": "69557aa0-d9a6-483b-bafc-03001c51d8da",
      "metadata": {
        "id": "69557aa0-d9a6-483b-bafc-03001c51d8da",
        "outputId": "2b3541e6-c4dd-41b3-df29-7a7fa18fff7b"
      },
      "outputs": [
        {
          "data": {
            "text/html": [
              "<div>\n",
              "<style scoped>\n",
              "    .dataframe tbody tr th:only-of-type {\n",
              "        vertical-align: middle;\n",
              "    }\n",
              "\n",
              "    .dataframe tbody tr th {\n",
              "        vertical-align: top;\n",
              "    }\n",
              "\n",
              "    .dataframe thead th {\n",
              "        text-align: right;\n",
              "    }\n",
              "</style>\n",
              "<table border=\"1\" class=\"dataframe\">\n",
              "  <thead>\n",
              "    <tr style=\"text-align: right;\">\n",
              "      <th></th>\n",
              "      <th>dissolved_iron</th>\n",
              "      <th>nitrate_nitrite</th>\n",
              "      <th>phosphate</th>\n",
              "      <th>silicic_acid</th>\n",
              "      <th>chlorophyll</th>\n",
              "      <th>biogenic_silica</th>\n",
              "    </tr>\n",
              "  </thead>\n",
              "  <tbody>\n",
              "    <tr>\n",
              "      <th>Station 1</th>\n",
              "      <td>0.45</td>\n",
              "      <td>3.65</td>\n",
              "      <td>0.21</td>\n",
              "      <td>1.81</td>\n",
              "      <td>0.24</td>\n",
              "      <td>0.046</td>\n",
              "    </tr>\n",
              "  </tbody>\n",
              "</table>\n",
              "</div>"
            ],
            "text/plain": [
              "           dissolved_iron  nitrate_nitrite  phosphate  silicic_acid  \\\n",
              "Station 1            0.45             3.65       0.21          1.81   \n",
              "\n",
              "           chlorophyll  biogenic_silica  \n",
              "Station 1         0.24            0.046  "
            ]
          },
          "execution_count": 214,
          "metadata": {},
          "output_type": "execute_result"
        }
      ],
      "source": [
        "example_dataframe[example_dataframe.chlorophyll == 0.24]"
      ]
    },
    {
      "cell_type": "markdown",
      "id": "c56202ef-3505-48ef-a72f-a6821b52a352",
      "metadata": {
        "id": "c56202ef-3505-48ef-a72f-a6821b52a352"
      },
      "source": [
        "It's Station 1! <br>\n",
        "The lowest biogenic silica concentration is 0.046 micro moles per liter. Using the syntax above, find which Station this is."
      ]
    },
    {
      "cell_type": "code",
      "execution_count": null,
      "id": "62ea2600-c087-4926-85ca-a77f2972ca4d",
      "metadata": {
        "id": "62ea2600-c087-4926-85ca-a77f2972ca4d"
      },
      "outputs": [],
      "source": [
        "#your code here"
      ]
    },
    {
      "cell_type": "markdown",
      "id": "33ffac14-f3da-4227-93ec-389aeb5640ea",
      "metadata": {
        "id": "33ffac14-f3da-4227-93ec-389aeb5640ea"
      },
      "source": [
        "The logical statements we learned in an earlier class are: <br>\n",
        "`==` equal to <br>\n",
        "`>` greater than <br>\n",
        "`<` less than <br>\n",
        "\n",
        "Try using logical indexing to determine which station(s) have dissolved iron concentrations greater than 0.40 nano moles per liter."
      ]
    },
    {
      "cell_type": "code",
      "execution_count": null,
      "id": "001b38ab-241a-4949-b055-5eabefbe88be",
      "metadata": {
        "id": "001b38ab-241a-4949-b055-5eabefbe88be"
      },
      "outputs": [],
      "source": [
        "#your code here\n"
      ]
    },
    {
      "cell_type": "markdown",
      "id": "7e4cedb9-248a-4d96-a895-c4f09d3e8217",
      "metadata": {
        "id": "7e4cedb9-248a-4d96-a895-c4f09d3e8217"
      },
      "source": [
        "If I want a bunch of statistics all at once, I can simply use the `.describe()` function"
      ]
    },
    {
      "cell_type": "code",
      "execution_count": null,
      "id": "36f6a79c-a093-4763-8bcc-8a0c31344de5",
      "metadata": {
        "id": "36f6a79c-a093-4763-8bcc-8a0c31344de5",
        "outputId": "bb12e41f-5258-485c-86f3-c66ec3380cce"
      },
      "outputs": [
        {
          "data": {
            "text/html": [
              "<div>\n",
              "<style scoped>\n",
              "    .dataframe tbody tr th:only-of-type {\n",
              "        vertical-align: middle;\n",
              "    }\n",
              "\n",
              "    .dataframe tbody tr th {\n",
              "        vertical-align: top;\n",
              "    }\n",
              "\n",
              "    .dataframe thead th {\n",
              "        text-align: right;\n",
              "    }\n",
              "</style>\n",
              "<table border=\"1\" class=\"dataframe\">\n",
              "  <thead>\n",
              "    <tr style=\"text-align: right;\">\n",
              "      <th></th>\n",
              "      <th>dissolved_iron</th>\n",
              "      <th>nitrate_nitrite</th>\n",
              "      <th>phosphate</th>\n",
              "      <th>silicic_acid</th>\n",
              "      <th>chlorophyll</th>\n",
              "      <th>biogenic_silica</th>\n",
              "    </tr>\n",
              "  </thead>\n",
              "  <tbody>\n",
              "    <tr>\n",
              "      <th>count</th>\n",
              "      <td>3.000000</td>\n",
              "      <td>3.000000</td>\n",
              "      <td>3.000000</td>\n",
              "      <td>3.000000</td>\n",
              "      <td>3.000000</td>\n",
              "      <td>3.000000</td>\n",
              "    </tr>\n",
              "    <tr>\n",
              "      <th>mean</th>\n",
              "      <td>0.420000</td>\n",
              "      <td>4.733333</td>\n",
              "      <td>0.233333</td>\n",
              "      <td>1.973333</td>\n",
              "      <td>0.543333</td>\n",
              "      <td>0.066333</td>\n",
              "    </tr>\n",
              "    <tr>\n",
              "      <th>std</th>\n",
              "      <td>0.026458</td>\n",
              "      <td>0.989663</td>\n",
              "      <td>0.077675</td>\n",
              "      <td>0.209841</td>\n",
              "      <td>0.286764</td>\n",
              "      <td>0.031817</td>\n",
              "    </tr>\n",
              "    <tr>\n",
              "      <th>min</th>\n",
              "      <td>0.400000</td>\n",
              "      <td>3.650000</td>\n",
              "      <td>0.170000</td>\n",
              "      <td>1.810000</td>\n",
              "      <td>0.240000</td>\n",
              "      <td>0.046000</td>\n",
              "    </tr>\n",
              "    <tr>\n",
              "      <th>25%</th>\n",
              "      <td>0.405000</td>\n",
              "      <td>4.305000</td>\n",
              "      <td>0.190000</td>\n",
              "      <td>1.855000</td>\n",
              "      <td>0.410000</td>\n",
              "      <td>0.048000</td>\n",
              "    </tr>\n",
              "    <tr>\n",
              "      <th>50%</th>\n",
              "      <td>0.410000</td>\n",
              "      <td>4.960000</td>\n",
              "      <td>0.210000</td>\n",
              "      <td>1.900000</td>\n",
              "      <td>0.580000</td>\n",
              "      <td>0.050000</td>\n",
              "    </tr>\n",
              "    <tr>\n",
              "      <th>75%</th>\n",
              "      <td>0.430000</td>\n",
              "      <td>5.275000</td>\n",
              "      <td>0.265000</td>\n",
              "      <td>2.055000</td>\n",
              "      <td>0.695000</td>\n",
              "      <td>0.076500</td>\n",
              "    </tr>\n",
              "    <tr>\n",
              "      <th>max</th>\n",
              "      <td>0.450000</td>\n",
              "      <td>5.590000</td>\n",
              "      <td>0.320000</td>\n",
              "      <td>2.210000</td>\n",
              "      <td>0.810000</td>\n",
              "      <td>0.103000</td>\n",
              "    </tr>\n",
              "  </tbody>\n",
              "</table>\n",
              "</div>"
            ],
            "text/plain": [
              "       dissolved_iron  nitrate_nitrite  phosphate  silicic_acid  chlorophyll  \\\n",
              "count        3.000000         3.000000   3.000000      3.000000     3.000000   \n",
              "mean         0.420000         4.733333   0.233333      1.973333     0.543333   \n",
              "std          0.026458         0.989663   0.077675      0.209841     0.286764   \n",
              "min          0.400000         3.650000   0.170000      1.810000     0.240000   \n",
              "25%          0.405000         4.305000   0.190000      1.855000     0.410000   \n",
              "50%          0.410000         4.960000   0.210000      1.900000     0.580000   \n",
              "75%          0.430000         5.275000   0.265000      2.055000     0.695000   \n",
              "max          0.450000         5.590000   0.320000      2.210000     0.810000   \n",
              "\n",
              "       biogenic_silica  \n",
              "count         3.000000  \n",
              "mean          0.066333  \n",
              "std           0.031817  \n",
              "min           0.046000  \n",
              "25%           0.048000  \n",
              "50%           0.050000  \n",
              "75%           0.076500  \n",
              "max           0.103000  "
            ]
          },
          "execution_count": 173,
          "metadata": {},
          "output_type": "execute_result"
        }
      ],
      "source": [
        "example_dataframe.describe()"
      ]
    },
    {
      "cell_type": "markdown",
      "id": "cfe2411a-153f-40ac-b795-3f72df95809e",
      "metadata": {
        "id": "cfe2411a-153f-40ac-b795-3f72df95809e"
      },
      "source": [
        "## In addition to being built on NumPy, Pandas is also built with some Matplotlib functionality!"
      ]
    },
    {
      "cell_type": "code",
      "execution_count": null,
      "id": "f92cadbb-960c-4ccc-801b-087e2fdaaddf",
      "metadata": {
        "id": "f92cadbb-960c-4ccc-801b-087e2fdaaddf",
        "outputId": "bf8f861a-42e8-445f-f8b8-cf388d9127ba"
      },
      "outputs": [
        {
          "data": {
            "text/plain": [
              "<AxesSubplot:>"
            ]
          },
          "execution_count": 177,
          "metadata": {},
          "output_type": "execute_result"
        },
        {
          "data": {
            "image/png": "[encoded data removed]",
            "text/plain": [
              "<Figure size 432x288 with 1 Axes>"
            ]
          },
          "metadata": {
            "needs_background": "light"
          },
          "output_type": "display_data"
        }
      ],
      "source": [
        "example_dataframe.chlorophyll.plot(kind='bar')"
      ]
    },
    {
      "cell_type": "markdown",
      "id": "e5eed9c1-5186-4ed9-b8a9-64e576a06611",
      "metadata": {
        "id": "e5eed9c1-5186-4ed9-b8a9-64e576a06611"
      },
      "source": [
        "Add a y axis label to the above plot using the `.ylabel()` function we learned before."
      ]
    },
    {
      "cell_type": "markdown",
      "id": "46abd872-9b69-47c5-b536-daa73ec3f463",
      "metadata": {
        "id": "46abd872-9b69-47c5-b536-daa73ec3f463"
      },
      "source": [
        "Cool! So now we know about `Series` and `DataFrames`, how to index into them, and how to perform some basic operations like calculating statistics and plotting.\n",
        "## Now let's learn how to import data using Pandas.\n",
        "This is done using the `.read_csv()` command. This will read in any data file that is in table format (like an excel spreadsheet). Some common file types are .csv, .ascii, and .txt. Here, we are importing a .csv file containing temperature and salinity data collected by a seal (<a href=\"https://www.ncei.noaa.gov/access/metadata/landing-page/bin/iso?id=gov.noaa.nodc:0077805\">source</a>). You can view the raw data here if you'd like: <br>\n",
        "https://raw.githubusercontent.com/pyclub-cu/classes/master/data/ct4-9908-04_ODV_trimmed.csv\n",
        "\n"
      ]
    },
    {
      "cell_type": "markdown",
      "id": "9f06b0b5-ffbf-4f9f-b995-2a5930959ee4",
      "metadata": {
        "id": "9f06b0b5-ffbf-4f9f-b995-2a5930959ee4"
      },
      "source": [
        "<img src=\"https://static.skepticalscience.com/pics/Weddell_Seal_DanCosta.jpg\" width=\"420\" height=\"300\"/>"
      ]
    },
    {
      "cell_type": "markdown",
      "id": "a67c4643-67d0-45a9-8ff1-3905709c2ea1",
      "metadata": {
        "id": "a67c4643-67d0-45a9-8ff1-3905709c2ea1"
      },
      "source": [
        "Sensors glued to the heads of seals are a real thing and a valuable source of data! Don't worry, the sensors don't seem to bother them, and do fall off eventually."
      ]
    },
    {
      "cell_type": "code",
      "execution_count": null,
      "id": "21084a28-3d93-4a53-aa28-ea263f904a7c",
      "metadata": {
        "id": "21084a28-3d93-4a53-aa28-ea263f904a7c",
        "outputId": "04cb4141-f411-41e8-ac1c-8298c2f78f81"
      },
      "outputs": [
        {
          "data": {
            "text/html": [
              "<div>\n",
              "<style scoped>\n",
              "    .dataframe tbody tr th:only-of-type {\n",
              "        vertical-align: middle;\n",
              "    }\n",
              "\n",
              "    .dataframe tbody tr th {\n",
              "        vertical-align: top;\n",
              "    }\n",
              "\n",
              "    .dataframe thead th {\n",
              "        text-align: right;\n",
              "    }\n",
              "</style>\n",
              "<table border=\"1\" class=\"dataframe\">\n",
              "  <thead>\n",
              "    <tr style=\"text-align: right;\">\n",
              "      <th></th>\n",
              "      <th>hh:mm</th>\n",
              "      <th>Longitude</th>\n",
              "      <th>Latitude</th>\n",
              "      <th>Depth</th>\n",
              "      <th>Temperature</th>\n",
              "      <th>Salinity</th>\n",
              "    </tr>\n",
              "    <tr>\n",
              "      <th>mon/day/yr</th>\n",
              "      <th></th>\n",
              "      <th></th>\n",
              "      <th></th>\n",
              "      <th></th>\n",
              "      <th></th>\n",
              "      <th></th>\n",
              "    </tr>\n",
              "  </thead>\n",
              "  <tbody>\n",
              "    <tr>\n",
              "      <th>6/11/2004</th>\n",
              "      <td>8:42</td>\n",
              "      <td>-122.899</td>\n",
              "      <td>37.203</td>\n",
              "      <td>5</td>\n",
              "      <td>11.8270</td>\n",
              "      <td>33.2968</td>\n",
              "    </tr>\n",
              "    <tr>\n",
              "      <th>6/11/2004</th>\n",
              "      <td>8:42</td>\n",
              "      <td>-122.899</td>\n",
              "      <td>37.203</td>\n",
              "      <td>6</td>\n",
              "      <td>11.7647</td>\n",
              "      <td>33.3088</td>\n",
              "    </tr>\n",
              "    <tr>\n",
              "      <th>6/11/2004</th>\n",
              "      <td>8:42</td>\n",
              "      <td>-122.899</td>\n",
              "      <td>37.203</td>\n",
              "      <td>7</td>\n",
              "      <td>11.7024</td>\n",
              "      <td>33.3208</td>\n",
              "    </tr>\n",
              "    <tr>\n",
              "      <th>6/11/2004</th>\n",
              "      <td>8:42</td>\n",
              "      <td>-122.899</td>\n",
              "      <td>37.203</td>\n",
              "      <td>8</td>\n",
              "      <td>11.6401</td>\n",
              "      <td>33.3329</td>\n",
              "    </tr>\n",
              "    <tr>\n",
              "      <th>6/11/2004</th>\n",
              "      <td>8:42</td>\n",
              "      <td>-122.899</td>\n",
              "      <td>37.203</td>\n",
              "      <td>9</td>\n",
              "      <td>11.5778</td>\n",
              "      <td>33.3449</td>\n",
              "    </tr>\n",
              "    <tr>\n",
              "      <th>...</th>\n",
              "      <td>...</td>\n",
              "      <td>...</td>\n",
              "      <td>...</td>\n",
              "      <td>...</td>\n",
              "      <td>...</td>\n",
              "      <td>...</td>\n",
              "    </tr>\n",
              "    <tr>\n",
              "      <th>9/25/2004</th>\n",
              "      <td>6:44</td>\n",
              "      <td>179.470</td>\n",
              "      <td>43.975</td>\n",
              "      <td>65</td>\n",
              "      <td>5.7521</td>\n",
              "      <td>NaN</td>\n",
              "    </tr>\n",
              "    <tr>\n",
              "      <th>9/25/2004</th>\n",
              "      <td>6:44</td>\n",
              "      <td>179.470</td>\n",
              "      <td>43.975</td>\n",
              "      <td>66</td>\n",
              "      <td>5.6333</td>\n",
              "      <td>NaN</td>\n",
              "    </tr>\n",
              "    <tr>\n",
              "      <th>9/25/2004</th>\n",
              "      <td>6:44</td>\n",
              "      <td>179.470</td>\n",
              "      <td>43.975</td>\n",
              "      <td>67</td>\n",
              "      <td>5.5146</td>\n",
              "      <td>NaN</td>\n",
              "    </tr>\n",
              "    <tr>\n",
              "      <th>9/25/2004</th>\n",
              "      <td>6:44</td>\n",
              "      <td>179.470</td>\n",
              "      <td>43.975</td>\n",
              "      <td>68</td>\n",
              "      <td>5.3959</td>\n",
              "      <td>NaN</td>\n",
              "    </tr>\n",
              "    <tr>\n",
              "      <th>9/25/2004</th>\n",
              "      <td>6:44</td>\n",
              "      <td>179.470</td>\n",
              "      <td>43.975</td>\n",
              "      <td>69</td>\n",
              "      <td>5.2772</td>\n",
              "      <td>NaN</td>\n",
              "    </tr>\n",
              "  </tbody>\n",
              "</table>\n",
              "<p>111579 rows × 6 columns</p>\n",
              "</div>"
            ],
            "text/plain": [
              "           hh:mm  Longitude  Latitude  Depth  Temperature  Salinity\n",
              "mon/day/yr                                                         \n",
              "6/11/2004   8:42   -122.899    37.203      5      11.8270   33.2968\n",
              "6/11/2004   8:42   -122.899    37.203      6      11.7647   33.3088\n",
              "6/11/2004   8:42   -122.899    37.203      7      11.7024   33.3208\n",
              "6/11/2004   8:42   -122.899    37.203      8      11.6401   33.3329\n",
              "6/11/2004   8:42   -122.899    37.203      9      11.5778   33.3449\n",
              "...          ...        ...       ...    ...          ...       ...\n",
              "9/25/2004   6:44    179.470    43.975     65       5.7521       NaN\n",
              "9/25/2004   6:44    179.470    43.975     66       5.6333       NaN\n",
              "9/25/2004   6:44    179.470    43.975     67       5.5146       NaN\n",
              "9/25/2004   6:44    179.470    43.975     68       5.3959       NaN\n",
              "9/25/2004   6:44    179.470    43.975     69       5.2772       NaN\n",
              "\n",
              "[111579 rows x 6 columns]"
            ]
          },
          "execution_count": 203,
          "metadata": {},
          "output_type": "execute_result"
        }
      ],
      "source": [
        "#Here we are telling the .read_csv() function where to find the data, which row of data containes the data header names,\n",
        "# and which column to assign as the index\n",
        "seal_data = pd.read_csv('https://raw.githubusercontent.com/pyclub-cu/classes/master/data/ct4-9908-04_ODV_trimmed.csv', \n",
        "                        header=1, index_col='mon/day/yr')\n",
        "seal_data"
      ]
    },
    {
      "cell_type": "markdown",
      "id": "be4abdc6-dbfd-4954-bf31-bc1dd7847920",
      "metadata": {
        "id": "be4abdc6-dbfd-4954-bf31-bc1dd7847920"
      },
      "source": [
        "Do you see those \"NaNs\"? NaN is short for Not a Number, and how oceanographers denote bad or missing data. <br>\n",
        "\n",
        "## Using what we've learned, calculate the following: \n",
        "1) The average salinity measured by the seal\n",
        "2) Minimum temperature\n",
        "3) What depth this minimum temperature was measured at\n"
      ]
    },
    {
      "cell_type": "code",
      "execution_count": null,
      "id": "bb203e02-389b-4977-ba0e-8d7afade5722",
      "metadata": {
        "id": "bb203e02-389b-4977-ba0e-8d7afade5722"
      },
      "outputs": [],
      "source": [
        "# your code here\n",
        "\n"
      ]
    },
    {
      "cell_type": "markdown",
      "id": "f696d57d-3cf2-4c94-aa1a-b3f1c5b87224",
      "metadata": {
        "id": "f696d57d-3cf2-4c94-aa1a-b3f1c5b87224"
      },
      "source": [
        "<img src=\"https://cdn.the-scientist.com/assets/articleNo/32598/iImg/6278/e58dd2a0-02b2-4052-9508-4a0145c6f7a4-notebook1.jpg\" width=\"420\" height=\"300\"/>\n"
      ]
    },
    {
      "cell_type": "markdown",
      "id": "465a3ffe-95b1-4992-acd5-5ac5d1e5a9e2",
      "metadata": {
        "id": "465a3ffe-95b1-4992-acd5-5ac5d1e5a9e2"
      },
      "source": [
        "Let's recap Pandas: <br>\n",
        "`pd.Series` - creates a `Series` object <br>\n",
        "`pd.DataFrame` - creates a `DataFrame` object <br>\n",
        "`.loc[]` - lets you index by row name <br>\n",
        "`.iloc[]` - lets you index by row number <br>\n",
        "`.min()`, `.max()`, etc. - numpy functions built into pandas <br>\n",
        "`.plot()` - matplotlib function built into pandas <br>\n",
        "`.describe()` - gives you a statistical summary of your `Series` or `DataFrame` <br>\n",
        "`.read_csv()` - imports an external data file as a `DataFrame`"
      ]
    },
    {
      "cell_type": "markdown",
      "id": "646dfe1b-4e8d-480b-b2f3-0f6c8d226ad7",
      "metadata": {
        "id": "646dfe1b-4e8d-480b-b2f3-0f6c8d226ad7"
      },
      "source": [
        "## You've now learned about three packages, NumPy, Matplotlib, and Pandas, that will supercharge your Python data analyzing capabilities!\n",
        "As well as a bit about the exciting world of oceanography : ) In the following classes, we will delve deeper into these packages and use them to analayze more datasets from other scientific fields."
      ]
    },
    {
      "cell_type": "markdown",
      "id": "1a9010c8-628a-427c-9700-3ac1694a2cb5",
      "metadata": {
        "id": "1a9010c8-628a-427c-9700-3ac1694a2cb5"
      },
      "source": [
        "<img src=\"https://media.giphy.com/media/MT5UUV1d4CXE2A37Dg/giphy.gif\" width=\"420\" height=\"300\"/>\n"
      ]
    },
    {
      "cell_type": "markdown",
      "id": "abb4434b-67bb-4afc-b092-a4a29a3103a4",
      "metadata": {
        "id": "abb4434b-67bb-4afc-b092-a4a29a3103a4"
      },
      "source": [
        "<sup><sub>Written by Una Miller : )</sub></sup>"
      ]
    }
  ],
  "metadata": {
    "kernelspec": {
      "display_name": "Python 3",
      "language": "python",
      "name": "python3"
    },
    "language_info": {
      "codemirror_mode": {
        "name": "ipython",
        "version": 3
      },
      "file_extension": ".py",
      "mimetype": "text/x-python",
      "name": "python",
      "nbconvert_exporter": "python",
      "pygments_lexer": "ipython3",
      "version": "3.8.8"
    },
    "colab": {
      "name": "Intro_to_packages.ipynb",
      "provenance": [],
      "include_colab_link": true
    }
  },
  "nbformat": 4,
  "nbformat_minor": 5
}