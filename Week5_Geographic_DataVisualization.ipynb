{
  "cells": [
    {
      "cell_type": "markdown",
      "metadata": {
        "id": "view-in-github",
        "colab_type": "text"
      },
      "source": [
        "<a href=\"https://colab.research.google.com/github/cu-gwc-datascience/classes/blob/main/Week5_Geographic_DataVisualization.ipynb\" target=\"_parent\"><img src=\"https://colab.research.google.com/assets/colab-badge.svg\" alt=\"Open In Colab\"/></a>"
      ]
    },
    {
      "cell_type": "markdown",
      "metadata": {
        "id": "0XzruDUSvHgW"
      },
      "source": [
        "# **Week 5: Geographic Data Visualization**\n",
        "\n",
        "Girls Who Code @ Columbia\n",
        "\n",
        "Class 3: Intro to Data Science\n",
        "\n",
        "Week 5 curriculum by Yuxin Zhou (yz3062@columbia.edu) and Marina Gemma (meg2203@columbia.edu).\n",
        "\n",
        "<img src=\"https://media0.giphy.com/media/QmHmjEwtbQtlkOx8T1/giphy.gif?cid=ecf05e47uy3ssc0fpvsh76y7fw6f3hwgu0sjst94f1d4nwgd&rid=giphy.gif&ct=g\" width=\"300\" height=\"300\">\n",
        "\n",
        "### **Label and save your notebooks**\n",
        "\n",
        "1. Click on \"Copy to Drive\"\n",
        "\n",
        "\n",
        "2. Rename your notebook \"Week5_YourName.ipynb\"\n",
        "\n",
        "### Learning Objectives:\n",
        "\n",
        "* Import geographic data\n",
        "* Learn about various geographic projections\n",
        "* Plot global temperature maps\n",
        "* Plot NYC subway stations (points)\n",
        "* Understand potential sources of distortion when working with spatial data\n",
        "* Learn about the importance of exploring your dataset before analysis\n",
        "\n",
        "## Putting data on a map\n",
        "\n",
        "Geographical data are data that contain location information. Visualizing geographical data on a map can convey messages in a powerful way. \n",
        "\n",
        "Maps are everywhere. For example, the [NYTimes COVID tracking tool](https://www.nytimes.com/interactive/2021/us/new-york-city-new-york-covid-cases.html) shows hot spots of COVID positive cases on a county level, and readers can glean from it where COVID outbreaks are taking place. After looking at the map, you might choose to avoid areas with high COVID cases. When you go out, you might use **Google Maps** or **Apple Maps** to figure out how to get to where you want to go, and to get information on restaurants, coffee shops, or businesses in the immediate area. To find where your friends are, you might use **iPhone's Find My** app.\n",
        "\n",
        "In Python, geographical data can be easily plotted. For a very long time, [basemap](https://basemaptutorial.readthedocs.io/en/latest/index.html) was the most popular map making option. Recently, basemap has been [deprecated](https://matplotlib.org/basemap/) and a new library called [**Cartopy**](https://scitools.org.uk/cartopy/docs/latest/index.html) has quickly caught up.\n",
        "\n",
        "We will start by learning some basic usages of **Cartopy** (CARTOgraphic PYthon). Make sure you have the Cartopy library installed in the environment before carrying on. If you're not sure whether Cartopy is installed, run the next cell of code and see if you receive an error message. We will also import the other packages we will be using today:"
      ]
    },
    {
      "cell_type": "code",
      "execution_count": 1,
      "metadata": {
        "id": "PiyJ4-XGvHga"
      },
      "outputs": [],
      "source": [
        "import matplotlib.pyplot as plt\n",
        "import pandas as pd\n",
        "import cartopy.crs as ccrs\n",
        "import cartopy.feature as cfeature\n",
        "import numpy.ma as ma\n",
        "\n",
        "#this sets a standard figure size\n",
        "plt.rcParams['figure.figsize'] = (10,5)"
      ]
    },
    {
      "cell_type": "code",
      "source": [
        "# if you get an error after running the cell above, un-comment the line below (remove the #) and then re-run the cell above\n",
        "#!pip install cartopy"
      ],
      "metadata": {
        "id": "t_tKWWEUR5w8"
      },
      "execution_count": 4,
      "outputs": []
    },
    {
      "cell_type": "markdown",
      "metadata": {
        "id": "_P3gC1qgvHgb"
      },
      "source": [
        "## Cartopy basics\n",
        "\n",
        "We will start by making a default world map (with no additional data overlay). \n",
        "\n",
        "On a normal matplotlib plot, the location of data is expressed by its `(x,y)` coordinates. In a Cartopy map, the location of a data point is expressed by its `(longitude, latitude)` coordinates. \n",
        "\n",
        "As a result, the first step of making a map is to select a [projection method](https://scitools.org.uk/cartopy/docs/v0.15/crs/projections.html). Here, we use the default [Plate Carree](https://en.wikipedia.org/wiki/Equirectangular_projection) projection. This projection takes the **spherical map of the globe** and *translates* it to a **rectangular map**. The projection method takes the longitude and latitude coordinates and converts them into the coordinates of the figure. To assign the projection method, we add:\n",
        "\n",
        "`projection=ccrs.PlateCarree()`\n",
        "    \n",
        "to the plotting command. The name `PlateCarree()` can be replaced with a [projection](https://scitools.org.uk/cartopy/docs/v0.15/crs/projections.html) of your choosing."
      ]
    },
    {
      "cell_type": "code",
      "execution_count": null,
      "metadata": {
        "id": "MzpB79jJvHgc"
      },
      "outputs": [],
      "source": [
        "ax = plt.subplot(1,1,1,projection=ccrs.PlateCarree())\n",
        "ax.coastlines(resolution='50m')"
      ]
    },
    {
      "cell_type": "markdown",
      "metadata": {
        "id": "WRU5f9b-vHgd"
      },
      "source": [
        "Voila! Two lines of code and we have a map.\n",
        "\n",
        "The \"ax\" in the code above is just the name of your plot. You can name it whatever you want - try naming it \"earth\" instead:"
      ]
    },
    {
      "cell_type": "code",
      "execution_count": null,
      "metadata": {
        "id": "UIsJ8VNQvHgd"
      },
      "outputs": [],
      "source": [
        "earth = plt.subplot(1,1,1,projection=ccrs.PlateCarree())\n",
        "earth.coastlines(resolution='50m')"
      ]
    },
    {
      "cell_type": "markdown",
      "metadata": {
        "id": "s5rVlY2DvHge"
      },
      "source": [
        "The coastline resolution can be set to `110m`, `50m`, or `10m`. Try changing the resolution of the world map below. Do you see a difference?"
      ]
    },
    {
      "cell_type": "code",
      "execution_count": null,
      "metadata": {
        "id": "ZoWUxKHlvHge"
      },
      "outputs": [],
      "source": [
        "earth = plt.subplot(1,1,1,projection=ccrs.PlateCarree())\n",
        "earth.coastlines(resolution='your choice here')"
      ]
    },
    {
      "cell_type": "markdown",
      "metadata": {
        "id": "xiraZQDsvHgf"
      },
      "source": [
        "An especially powerful feature of the Cartopy package is that it offers a large number of [projections](https://scitools.org.uk/cartopy/docs/v0.15/crs/projections.html) to choose from. \n",
        "\n",
        "The **Robinson** projection has less \"stretch\" on the polar regions. As a result, compared to the **Plate Carree** projection, Greenland and Antarctica are closer to their real relative size in the **Robinson** projection.\n",
        "\n",
        "Run the code below. Do Greenland and Antarctica look smaller or larger to you than they do in the Plate Carree projection?"
      ]
    },
    {
      "cell_type": "code",
      "execution_count": null,
      "metadata": {
        "id": "YNE-GU78vHgf"
      },
      "outputs": [],
      "source": [
        "ax = plt.subplot(1,1,1,projection=ccrs.Robinson())\n",
        "ax.coastlines(resolution='50m')"
      ]
    },
    {
      "cell_type": "code",
      "execution_count": null,
      "metadata": {
        "id": "2sTxATdyvHgf"
      },
      "outputs": [],
      "source": [
        "# Do Greenland and Antarctica look smaller or larger to you?\n",
        "\n"
      ]
    },
    {
      "cell_type": "markdown",
      "metadata": {
        "id": "r_I-QJ6_vHgg"
      },
      "source": [
        "Because the Earth is a sphere, in order to accurately display the relative sizes of continents and oceans, the surface needs to be split up like an orange peel, which we can visualize using the `InterruptedGoodeHomolosine()` projection (wow what a name!) below:"
      ]
    },
    {
      "cell_type": "code",
      "execution_count": null,
      "metadata": {
        "id": "QEOgK-clvHgg"
      },
      "outputs": [],
      "source": [
        "ax = plt.subplot(1,1,1,projection=ccrs.InterruptedGoodeHomolosine())\n",
        "ax.coastlines(resolution='50m')"
      ]
    },
    {
      "cell_type": "markdown",
      "metadata": {
        "id": "GzwbCexQvHgg"
      },
      "source": [
        "This is kind of weird to look at, right? Though this is a realistic projection, it is not favored for global visualizations, since it doesn't make as much sense to our eye.\n",
        "\n",
        "If we would like to plot Earth the same way an astronaunt may see Earth from space, we can choose the **orthographic** projection:"
      ]
    },
    {
      "cell_type": "code",
      "execution_count": null,
      "metadata": {
        "id": "ugAFmMHevHgh"
      },
      "outputs": [],
      "source": [
        "ax = plt.subplot(1,1,1,projection=ccrs.Orthographic(central_latitude=40, central_longitude=-90))\n",
        "ax.coastlines(resolution='50m')"
      ]
    },
    {
      "cell_type": "markdown",
      "metadata": {
        "id": "y68oU788vHgh"
      },
      "source": [
        "This plots data on a sphere - since Earth is spherical, this another realistic Cartopy representation. However, it only allows you to view *one side* of the planet. That's why the `Robinson` and `Plate Carree` projections are favored when visualizing global data.\n",
        "\n",
        "In general, the choice of projection depends on the type of information that needs to be conveyed via the map. No single projection is perfect for every scenario, and every projection has pros and cons. For example, in nautical maps, to make sure a ship is sailing from point A to point B in the shortest distance, the northing and easting on the map need to be straight. A Robinson projection, therefore, would not be the best choice.\n",
        "\n",
        "Cartopy has functions to add more \"flavors\" to a map, including grid labels and outlines that mark the continents, oceans, and rivers. You can explore these features [here](https://scitools.org.uk/cartopy/docs/latest/matplotlib/feature_interface.html). The features can be easily added with the code:\n",
        "\n",
        "    ax.add_feature(cfeature.LAND)\n",
        "    \n",
        "where `LAND` can be replaced with the other feature names. Browse the [features](https://scitools.org.uk/cartopy/docs/latest/matplotlib/feature_interface.html) and add a feature of your choice to the code below:"
      ]
    },
    {
      "cell_type": "code",
      "execution_count": null,
      "metadata": {
        "id": "PwH3zkPnvHgh"
      },
      "outputs": [],
      "source": [
        "ax = plt.subplot(1,1,1,projection=ccrs.PlateCarree())\n",
        "ax.gridlines(draw_labels=True)\n",
        "ax.add_feature(cfeature.LAND)\n",
        "ax.add_feature(cfeature.OCEAN)\n",
        "ax.add_feature(cfeature.RIVERS)\n",
        "# add another feature here"
      ]
    },
    {
      "cell_type": "markdown",
      "metadata": {
        "id": "dtRAD6H4vHgh"
      },
      "source": [
        "Lastly, a raster image that includes landscape on land and bathymetry in the ocean is included by Cartopy. To use this image, simply add this line of code:\n",
        "\n",
        "    ax.stock_img()"
      ]
    },
    {
      "cell_type": "code",
      "execution_count": null,
      "metadata": {
        "id": "gKl0-HTsvHgi"
      },
      "outputs": [],
      "source": [
        "ax = plt.subplot(1,1,1,projection=ccrs.PlateCarree())\n",
        "# add the stock image to your map here"
      ]
    },
    {
      "cell_type": "markdown",
      "metadata": {
        "id": "GrxepLL8vHgi"
      },
      "source": [
        "## Use Cartopy to plot climate data\n",
        "\n",
        "Next, we will learn about using Cartopy to visualize **climate data**. Earth's climate has gone through cyclic changes for the past 800 thousand years, oscillating between glacial periods, where large amounts of ice covered North America and Northern Europe, and interglacial periods (which we are living in right now). You may have seen or heard of **Ice Age**, an animated movie set in the transition from a glacial to an interglacial period:\n",
        "\n",
        "<img src=\"https://fffmovieposters.com/wp-content/uploads/73225.jpg\" width=\"300\" height=\"400\">\n",
        "\n",
        "\n",
        "The last time the Earth was in a glacial period was about 21 thousand years ago. As the name suggests, the last glacial period was colder and the concentration of carbon dioxide (CO$_2$), the greenhouse gas, was **lower** in the atmosphere than it is today.\n",
        "\n",
        "Atmospheric CO$_2$ has been *increasing* since the start of Industrial Revolution, when the burning of coal and oil led to rapid release of CO$_2$ into the atmosphere. Given the projected increase in atmospheric CO$_2$ in the future if we continue to burn fossil fuels (coal, oil, natural gas), an important scientific question is ***how much warmer the Earth can/will become***. \n",
        "\n",
        "This is where information about the last glacial period can become useful. If we know the temperature of Earth during a period when CO$_2$ was lower than it is today, we may be able to use that information to calculate the temperature Earth might reach with CO$_2$ higher than today. This relationship between temperature and atmospheric CO$_2$ is called [climate sensitivity](https://climate.mit.edu/explainers/climate-sensitivity).\n",
        "\n",
        "Here, we will explore a dataset published recently, called [Globally resolved surface temperatures since the Last Glacial Maximum](https://www.nature.com/articles/s41586-021-03984-4). In it, the scientists used a range of proxies (geological records that provide temperature information in times past) to produce a global map of temperature during the Last Glacial Maximum - the time when Earth was at its coolest and when the ice sheets at their largest extent during the last glacial period. "
      ]
    },
    {
      "cell_type": "markdown",
      "metadata": {
        "id": "Ri3Q2aNnvHgi"
      },
      "source": [
        "First, we plot a map of **modern** sea surface temperature from the dataset. We will import the library `netCDF4` in order to read in the specialized data format.\n",
        "\n",
        "**You will first need to download the dataset [here](https://www.ncei.noaa.gov/pub/data/paleo/reconstructions/osman2021/LGMR_SST_climo.nc)**.\n",
        "\n",
        "Then, in Google Colab:\n",
        "\n",
        "1. Click on the folder icon on the left hand side of your screen.\n",
        "2. Click 'upload to session storage' and select the file you just downloaded. This will make the data available in Google Colab."
      ]
    },
    {
      "cell_type": "code",
      "execution_count": 2,
      "metadata": {
        "id": "fH4DQZPtvHgi"
      },
      "outputs": [],
      "source": [
        "import netCDF4 as nc\n",
        "\n",
        "# read in the netCDF data\n",
        "dataset = nc.Dataset('LGMR_SST_climo.nc')"
      ]
    },
    {
      "cell_type": "markdown",
      "metadata": {
        "id": "847QcdL4vHgj"
      },
      "source": [
        "NetCDF is short for NET Climate Data Format.\n",
        "\n",
        "The netCDF dataset includes the main variable of interest here, `sst`, which is short for **Sea Surface Temperature**. The `0` in the brackets below specifies that we are extracting the youngest (i.e. current day, or modern) **sst**:"
      ]
    },
    {
      "cell_type": "code",
      "execution_count": null,
      "metadata": {
        "id": "pBAgvIsAvHgj"
      },
      "outputs": [],
      "source": [
        "sst = dataset['sst'][0,:,:]"
      ]
    },
    {
      "cell_type": "markdown",
      "metadata": {
        "id": "uX6lzRrAvHgj"
      },
      "source": [
        "Next we will specify the latitude and longitude information. These are the coordinates where our variable `sst` lies:"
      ]
    },
    {
      "cell_type": "code",
      "execution_count": null,
      "metadata": {
        "id": "fsr3D4McvHgj"
      },
      "outputs": [],
      "source": [
        "# This line reads the latitude information\n",
        "lat = dataset['lat'][:,0]\n",
        "\n",
        "# This line reads in longitude \n",
        "lon = ma.sort(dataset['lon'][0,:], axis=-1)"
      ]
    },
    {
      "cell_type": "markdown",
      "metadata": {
        "id": "IQZlvOp8vHgj"
      },
      "source": [
        "Because of some complexities of the longitude coordinates, we perform a numpy operation to simplify it (don't worry about this!)\n",
        "\n",
        "Finally, we can make our plot of **sea surface temperature**. We will first set up our map using a `PlateCarree()` projection:\n",
        "        \n",
        "        ax1 = plt.subplot(1,1,1, projection=ccrs.PlateCarree())\n",
        "        \n",
        "Then, we will plot ***contours***, or shaded areas that will represent temperature. We will name our contour `ct`, and in addition to the coordinates and the sea surface temperature inputs,\n",
        "we also specify the projection the map is in (Plate Carree), and the maximum and minimum\n",
        "values (`vmin=-2` and `vmax=30`) that correspond to the lightest and darkest colors:"
      ]
    },
    {
      "cell_type": "code",
      "execution_count": null,
      "metadata": {
        "id": "weBv9SGMvHgk"
      },
      "outputs": [],
      "source": [
        "# We first set up the map using a Plate_Carree projection\n",
        "ax1 = plt.subplot(1,1,1, projection=ccrs.PlateCarree())\n",
        "\n",
        "#then plot the contour\n",
        "ct = plt.contourf(lon, lat, sst, transform=ccrs.PlateCarree(),vmin=-2,vmax=30, cmap='Spectral_r')\n",
        "\n",
        "# Take the handle (name) of the contour and plot a colorbar based on it\n",
        "plt.colorbar(ct)\n",
        "\n",
        "plt.title('Modern SST')"
      ]
    },
    {
      "cell_type": "markdown",
      "metadata": {
        "id": "fMPCtbBAvHgk"
      },
      "source": [
        "Now we have a plot of **modern** sea surface temperature (in degrees Celsius)!\n",
        "\n",
        "You will notice that the SST is highest near the equator, and lowest near the poles. \n",
        "\n",
        "Next, we will plot the sea surface temperature *during the* ***Last Glacial Maximum***. We start again by setting up our projection:\n",
        "\n",
        "    ax2 = plt.subplot(1,1,1, projection=ccrs.PlateCarree())\n",
        "    \n",
        "and defining the variables we will plot:\n",
        "\n",
        "    sst = dataset['sst'][-1,:,:]\n",
        "    lat = dataset['lat'][:,0]\n",
        "    lon = ma.sort(dataset['lon'][0,:], axis=-1)\n",
        "    \n",
        "The `-1` in the `sst` line extracts the oldest sst field in the dataset - the Last Glacial Maximum sst.\n",
        "\n",
        "We will also specify the same `vmin` and `vmax` (`vmin=-2` and `vmax=30`) as the previous map, to make sure that the same colors represent the same temperature values. This makes it easier to compare the two maps even though they have (slightly) different temperature ranges."
      ]
    },
    {
      "cell_type": "code",
      "execution_count": null,
      "metadata": {
        "id": "qmWmr9ssvHgk"
      },
      "outputs": [],
      "source": [
        "ax2 = plt.subplot(1,1,1, projection=ccrs.PlateCarree())\n",
        "\n",
        "sst = dataset['sst'][-1,:,:]\n",
        "lat = dataset['lat'][:,0]\n",
        "lon = ma.sort(dataset['lon'][0,:], axis=-1)\n",
        "\n",
        "ct = plt.contourf(lon, lat, sst, transform=ccrs.PlateCarree(),vmin=-2,vmax=30, cmap='Spectral_r')\n",
        "plt.colorbar(ct)\n",
        "\n",
        "plt.title('Last Glacial Maximum SST')"
      ]
    },
    {
      "cell_type": "markdown",
      "metadata": {
        "id": "FWrnydNzRgUy"
      },
      "source": [
        "Compare and contrast the two plots above. What similarities and differences do you notice between the sea surface temperatures during the Last Glacial Maximum and today?"
      ]
    },
    {
      "cell_type": "code",
      "execution_count": null,
      "metadata": {
        "id": "7aq-hQ-7RgUy"
      },
      "outputs": [],
      "source": [
        "#Your answer here"
      ]
    },
    {
      "cell_type": "markdown",
      "metadata": {
        "id": "x_CqqveRvHgk"
      },
      "source": [
        "Additionally, we will use the following lines to plot the northern hemisphere ice sheet extent during the \n",
        "Last Glacial Maximum. Cartopy has functions to read in **shapefiles** (.shp). \n",
        "\n",
        "**You will first need to download the shapefile [here](https://github.com/cu-gwc-datascience/classes/blob/main/data/LGM_best_estimate.shp)**.\n",
        "\n",
        "Then, in Google Colab:\n",
        "\n",
        "1. Click on the folder icon on the left hand side of your screen.\n",
        "2. Click 'upload to session storage' and select the file you just downloaded. This will make the data available in Google Colab."
      ]
    },
    {
      "cell_type": "code",
      "execution_count": null,
      "metadata": {
        "id": "6ST6hg-XvHgl"
      },
      "outputs": [],
      "source": [
        "from cartopy.feature import ShapelyFeature\n",
        "from cartopy.io.shapereader import Reader\n",
        "\n",
        "fname = './LGM_ice_sheet_extent/LGM_best_estimate.shp'\n",
        "\n",
        "# We specify that the ice sheet extent can be plotted in gray\n",
        "shape_feature = ShapelyFeature(Reader(fname).geometries(),ccrs.PlateCarree(central_longitude=40), facecolor='gray')\n",
        "\n",
        "#we make the same plot\n",
        "ax2 = plt.subplot(1,1,1, projection=ccrs.PlateCarree())\n",
        "sst = dataset['sst'][-1,:,:]\n",
        "lat = dataset['lat'][:,0]\n",
        "lon = ma.sort(dataset['lon'][0,:], axis=-1)\n",
        "ct = plt.contourf(lon, lat, sst, transform=ccrs.PlateCarree(),vmin=-2,vmax=30, cmap='Spectral_r')\n",
        "plt.colorbar(ct)\n",
        "plt.title('Last Glacial Maximum SST')\n",
        "\n",
        "#and add the ice sheet extent\n",
        "ax2.add_feature(shape_feature)"
      ]
    },
    {
      "cell_type": "markdown",
      "metadata": {
        "id": "RLDRCFUvvHgl"
      },
      "source": [
        "Do you see the gray area that was added? That was the ice sheet that existed during the Last Glacial Maximum! This ice sheet even covered New York City - you can see evidence of glacial movement in the rocks in Central Park!\n",
        "\n",
        "Also, a fun fact: Long Island is actually a [terminal moraine](https://en.wikipedia.org/wiki/Moraine), which is an accumulation of rock and debris that is pushed along by the ice sheet as it moves, and was formed during the Last Glacial Maximum!\n",
        "\n",
        "Comparing the two SST maps, we can see that the Last Glacial Maximum temperature was indeed cooler than the modern temperature. \n",
        "\n",
        "By how much cooler exactly? We can **subtract** the Last Glacial Maximum temperature from the modern sea surface temperature, and plot the difference to see the areas that experienced the most change:"
      ]
    },
    {
      "cell_type": "code",
      "execution_count": null,
      "metadata": {
        "id": "Gx4NikArvHgl"
      },
      "outputs": [],
      "source": [
        "ax3 = plt.subplot(1,1,1, projection=ccrs.PlateCarree())\n",
        "\n",
        "# subtract the Last Glacial Maximum temperature from the modern sea surface temperature:\n",
        "sst = dataset['sst'][-1,:,:] - dataset['sst'][0,:,:]\n",
        "\n",
        "ct = plt.contourf(lon, lat, sst, transform=ccrs.PlateCarree(),vmin=-12,vmax=2,cmap='viridis')\n",
        "plt.colorbar(ct)\n",
        "ax3.add_feature(shape_feature)"
      ]
    },
    {
      "cell_type": "markdown",
      "metadata": {
        "id": "n31l3kKwvHgl"
      },
      "source": [
        "Notice the values on the colorbar - the majority are **negative**, meaning that the SST was **cooler** during the Last Glacial Maximum.\n",
        "\n",
        "The largest cooling during the Last Glacial Maximum seems to have happened in the northern North Atlantic Ocean. The Southern Ocean (the ocean surrounding the Antarctica) and the Arctic Ocean saw the smallest cooling, and may have even been warmer in some limited regions.\n",
        "\n",
        "Now, instead of plotting contours on a map, we are going to plot **points** on a map. \n",
        "\n",
        "\n",
        "# Plotting NYC Subway Stations\n",
        "\n",
        "\n",
        "\n",
        "<img src=\"https://media2.giphy.com/media/4RjlgXp8uC0WRa1lf2/giphy.gif?cid=ecf05e4757vp5yjaolf4ufp6cbx0mxz31463if6qtrlgko15&rid=giphy.gif&ct=g\" width=\"400\" height=\"300\">\n",
        " \n",
        "\n",
        "We will be plotting all of NYC's subway stations on a map of NYC!\n",
        "\n",
        "First, let's import the subway station data:"
      ]
    },
    {
      "cell_type": "code",
      "execution_count": null,
      "metadata": {
        "id": "dnwFLlWEvHgl"
      },
      "outputs": [],
      "source": [
        "stations = pd.read_csv('https://raw.githubusercontent.com/cu-gwc-datascience/classes/main/data/subway_stations.csv',index_col=None)\n",
        "stations"
      ]
    },
    {
      "cell_type": "markdown",
      "metadata": {
        "id": "FRAicJyARgU0"
      },
      "source": [
        "We have the `name`, `borough`, `longitude`, and `latitude` for each subway station, as well as which lines (`subway_lines`) and how many lines (`number_of_lines`) stop at each station.\n",
        "\n",
        "We will still be using **Cartopy** to plot, but need to import some additional packages:"
      ]
    },
    {
      "cell_type": "code",
      "execution_count": 4,
      "metadata": {
        "id": "2fv5mMO1RgU0"
      },
      "outputs": [],
      "source": [
        "import cartopy.io.img_tiles as cimgt\n",
        "from cartopy.mpl.ticker import LongitudeFormatter, LatitudeFormatter\n",
        "from PIL import Image"
      ]
    },
    {
      "cell_type": "markdown",
      "metadata": {
        "id": "5M_BmeJrRgU0"
      },
      "source": [
        "Now let's get started!\n",
        "\n",
        "<img src='https://media1.giphy.com/media/3osxYdZN9vCr0l7AiY/giphy.gif?cid=ecf05e47u7w6nj4tjd8zg87n5yeamytp71gvgo3ve956gp5u&rid=giphy.gif&ct=g' width=\"400\" height=\"300\">\n",
        "\n",
        "<img src='https://media4.giphy.com/media/xUA7aQfR9hhgU78KDC/giphy.gif?cid=ecf05e47k9hh73gkxq4yosjbrzp97qoxqwrj98ydxqjw51dw&rid=giphy.gif&ct=g' width=\"300\" height=\"300\">\n",
        "\n",
        "\n",
        "We will set up our map in a similar way as we did for the SST plots above, but with a few differences. First, we are going to use a background image, which we will plot on top of. To load it, we will use the command:\n",
        "\n",
        "    background = cimgt.Stamen('terrain-background')\n",
        "\n",
        "We can set up our map using the lines below. The first line opens our figure and sets the size, and the second line specifys the Plate Carree projection we will be using:\n",
        "\n",
        "    fig = plt.figure(figsize=(12,9))\n",
        "    ax1 = plt.axes(projection=ccrs.PlateCarree()) \n",
        "\n",
        "Next, we will set the bounds of our image, using longitudes and latitudes of the greater NYC area, and add that to our plot:\n",
        "\n",
        "    bounds = [-74.15,-73.699215,40.52,40.915568]\n",
        "    ax1.set_extent(bounds)\n",
        "\n",
        "Furthermore, to make the axes look nice, we can add a series of formatting commands:\n",
        "\n",
        "> Set longitude and latitude indicators:\n",
        ">>       ax1.set_xticks(np.linspace(bounds[0],bounds[1],6),crs=ccrs.PlateCarree()) \n",
        ">>       ax1.set_yticks(np.linspace(bounds[2],bounds[3],7)[1:],crs=ccrs.PlateCarree()) \n",
        ">\n",
        "> Set axis formats:\n",
        ">>       ax1.xaxis.set_major_formatter(lon_formatter) # set lons\n",
        ">>       ax1.yaxis.set_major_formatter(lat_formatter) # set lats\n",
        ">\n",
        "> Set size of tick labels:\n",
        ">>       ax1.xaxis.set_tick_params(labelsize=14)\n",
        ">>       ax1.yaxis.set_tick_params(labelsize=14)\n",
        "\n",
        "These formatting commands follow the example [here](https://makersportal.com/blog/2020/4/24/geographic-visualizations-in-python-with-cartopy), which plots weather stations instead of subway stations.\n",
        "\n",
        "To add our background image, we include:\n",
        "\n",
        "    ax1.add_image(background, int(scale))\n",
        "\n",
        "where `scale` is a calculated value that scales our background image to the bounds that we set.\n",
        "\n",
        "Combining all these gives us a nice map of the NYC area:"
      ]
    },
    {
      "cell_type": "code",
      "execution_count": null,
      "metadata": {
        "id": "WDMM0LSORgU0"
      },
      "outputs": [],
      "source": [
        "background = cimgt.Stamen('terrain-background') # this loads the background image we will plot the stations on top of\n",
        "\n",
        "fig = plt.figure(figsize=(12,9)) \n",
        "ax1 = plt.axes(projection=ccrs.PlateCarree()) \n",
        "\n",
        "bounds = [-74.15,-73.699215,40.52,40.915568] # NYC bounds\n",
        "ax1.set_extent(bounds)\n",
        "\n",
        "ax1.set_xticks(np.linspace(bounds[0],bounds[1],6),crs=ccrs.PlateCarree()) \n",
        "ax1.set_yticks(np.linspace(bounds[2],bounds[3],7)[1:],crs=ccrs.PlateCarree()) \n",
        "ax1.xaxis.set_major_formatter(lon_formatter) \n",
        "ax1.yaxis.set_major_formatter(lat_formatter) \n",
        "ax1.xaxis.set_tick_params(labelsize=14)\n",
        "ax1.yaxis.set_tick_params(labelsize=14)\n",
        "\n",
        "scale = np.ceil(-np.sqrt(2)*np.log(np.divide((bounds[1]-bounds[0])/2.0,350.0))) # solve for scale based on set bounds\n",
        "scale = (scale<20) and scale or 19 # scale cannot be larger than 19\n",
        "\n",
        "ax1.add_image(background, int(scale)) # add background image scaled to bounds\n"
      ]
    },
    {
      "cell_type": "markdown",
      "metadata": {
        "id": "lUCdzZHRRgU0"
      },
      "source": [
        "Neat! Now we want to plot the subway stations. To add them, we just need one line of code:\n",
        "\n",
        "    ax1.plot(stations.longitude, stations.latitude, markersize=5,marker='o',linestyle='',color='dimgray',transform=ccrs.PlateCarree())\n",
        "    \n",
        "Here we plot the longitude (`stations.longitude`) and latitude (`stations.latitude`) from our data file `stations`, and set the `marker` shape, `markersize`, `color` and projection (`PlateCarree()`). \n"
      ]
    },
    {
      "cell_type": "code",
      "execution_count": null,
      "metadata": {
        "id": "23f6kRH_RgU1"
      },
      "outputs": [],
      "source": [
        "fig = plt.figure(figsize=(12,9)) \n",
        "ax1 = plt.axes(projection=ccrs.PlateCarree()) \n",
        "\n",
        "bounds = [-74.15,-73.699215,40.52,40.915568] # NYC bounds\n",
        "ax1.set_extent(bounds)\n",
        "ax1.set_xticks(np.linspace(bounds[0],bounds[1],6),crs=ccrs.PlateCarree()) \n",
        "ax1.set_yticks(np.linspace(bounds[2],bounds[3],7)[1:],crs=ccrs.PlateCarree()) \n",
        "ax1.xaxis.set_major_formatter(lon_formatter) \n",
        "ax1.yaxis.set_major_formatter(lat_formatter) \n",
        "ax1.xaxis.set_tick_params(labelsize=14)\n",
        "ax1.yaxis.set_tick_params(labelsize=14)\n",
        "ax1.add_image(background, int(scale)) # add background image scaled to bounds\n",
        "\n",
        "\n",
        "#######################\n",
        "#add stations to plot\n",
        "ax1.plot(stations.longitude, stations.latitude, markersize=5,marker='o',linestyle='',color='dimgray',transform=ccrs.PlateCarree())\n",
        "\n",
        "#add title to plot\n",
        "ax1.set_title('MTA Subway Station Map',fontsize=16)\n"
      ]
    },
    {
      "cell_type": "markdown",
      "metadata": {
        "id": "9501oGdYRgU1"
      },
      "source": [
        "We have our stations! There are almost 500 subway stations in NYC, and they are represented on the map above.\n",
        "\n",
        "\n",
        "What if we wanted to view only a subset of the stations, such as the stations only a certain subway line stops at? How about looking only at **B train** stations?\n",
        "\n",
        "To do this, we would first need to find all of the stations in our dataset where the B train stops. We can do this by using a **filter**, which will find data points that meet your criteria (stations where the B train stops) and filters out the rest. the command to do this is:\n",
        "\n",
        "    filterb = stations['subway_lines'].str.contains('b', case=False)\n",
        "    \n",
        "With this code, we are telling python to look at the `stations['subway_lines']` column in our dataset, and find rows that contain `b`. The `case=False` modifier tells python to look for both upper and lower case instances of `b`. The name `filterb` is arbitrary, and can be changed to whatever you'd like. Let's create this filter below:"
      ]
    },
    {
      "cell_type": "code",
      "execution_count": null,
      "metadata": {
        "id": "dAFBN_zvRgU1"
      },
      "outputs": [],
      "source": [
        "filterb = stations['subway_lines'].str.contains('b', case=False)\n",
        "stations[filterb]"
      ]
    },
    {
      "cell_type": "markdown",
      "metadata": {
        "id": "ErRSToYkRgU1"
      },
      "source": [
        "Plotting our subset of B train stations is easy. Instead of plotting `stations.longitude, stations.latitude` like we did above, we add the filter to the dataset, and plot `stations[filterb].longitude, stations[filterb].latitude`:\n",
        "\n",
        "    ax1.plot(stations[mask].longitude, stations[mask].latitude,markersize=5,marker='o',linestyle='',color='darkorange',transform=ccrs.PlateCarree()\n",
        "    \n",
        "Part of data visualization and data science is making data relatable to viewers. The subway lines in NYC have associated colors, and the B train color is orange. We can color our B train subway stations orange (or any other color we'd like, though let's start with orange). Let's see what this looks like below:"
      ]
    },
    {
      "cell_type": "code",
      "execution_count": null,
      "metadata": {
        "id": "a8VBDd-CRgU1"
      },
      "outputs": [],
      "source": [
        "fig = plt.figure(figsize=(12,9)) \n",
        "ax1 = plt.axes(projection=ccrs.PlateCarree()) \n",
        "\n",
        "bounds = [-74.15,-73.699215,40.52,40.915568] # NYC bounds\n",
        "ax1.set_extent(bounds)\n",
        "ax1.set_xticks(np.linspace(bounds[0],bounds[1],6),crs=ccrs.PlateCarree()) \n",
        "ax1.set_yticks(np.linspace(bounds[2],bounds[3],7)[1:],crs=ccrs.PlateCarree()) \n",
        "ax1.xaxis.set_major_formatter(lon_formatter) \n",
        "ax1.yaxis.set_major_formatter(lat_formatter) \n",
        "ax1.xaxis.set_tick_params(labelsize=14)\n",
        "ax1.yaxis.set_tick_params(labelsize=14)\n",
        "ax1.add_image(background, int(scale)) # add background image scaled to bounds\n",
        "\n",
        "#add filtered (B train) stations to plot\n",
        "ax1.plot(stations[filterb].longitude, stations[filterb].latitude,markersize=5,marker='o',linestyle='',color='darkorange',transform=ccrs.PlateCarree())\n",
        "\n",
        "#add title to plot        \n",
        "ax1.set_title('B train Subway Stations',fontsize=16)"
      ]
    },
    {
      "cell_type": "markdown",
      "metadata": {
        "id": "TJPzxVOlRgU1"
      },
      "source": [
        "We can also create a filter that selects more than just one subway line! To do so, we just add `|` between our subway lines of interest (i.e., `'1|2|3'`):"
      ]
    },
    {
      "cell_type": "code",
      "execution_count": null,
      "metadata": {
        "id": "7rM_RkE2RgU2"
      },
      "outputs": [],
      "source": [
        "filter123 = stations['subway_lines'].str.contains('1|2|3', case=False)"
      ]
    },
    {
      "cell_type": "markdown",
      "metadata": {
        "id": "VVTJR6doRgU2"
      },
      "source": [
        "Let's **plot the 1, 2, and 3** train stations and color them **red**:"
      ]
    },
    {
      "cell_type": "code",
      "execution_count": null,
      "metadata": {
        "id": "gvimpkNhRgU2"
      },
      "outputs": [],
      "source": [
        "fig = plt.figure(figsize=(12,9)) \n",
        "ax1 = plt.axes(projection=ccrs.PlateCarree()) \n",
        "\n",
        "bounds = [-74.15,-73.699215,40.52,40.915568] # NYC bounds\n",
        "ax1.set_extent(bounds)\n",
        "ax1.set_xticks(np.linspace(bounds[0],bounds[1],6),crs=ccrs.PlateCarree()) \n",
        "ax1.set_yticks(np.linspace(bounds[2],bounds[3],7)[1:],crs=ccrs.PlateCarree()) \n",
        "ax1.xaxis.set_major_formatter(lon_formatter) \n",
        "ax1.yaxis.set_major_formatter(lat_formatter) \n",
        "ax1.xaxis.set_tick_params(labelsize=14)\n",
        "ax1.yaxis.set_tick_params(labelsize=14)\n",
        "ax1.add_image(background, int(scale)) # add background image scaled to bounds\n",
        "\n",
        "#add filtered (1,2,3 train) stations to plot\n",
        "ax1.plot(stations[filter123].longitude, stations[filter123].latitude,markersize=5,marker='o',linestyle='',color='red',transform=ccrs.PlateCarree())\n",
        "\n",
        "#add title to plot        \n",
        "ax1.set_title('1,2,3 train Subway Stations',fontsize=16)"
      ]
    },
    {
      "cell_type": "markdown",
      "metadata": {
        "id": "ueCorGbyRgU2"
      },
      "source": [
        "Now it's your turn:\n",
        "\n",
        "1. Create a filter that selects stations for either a single subway line (i.e. B train) or a set of subway lines (i.e. 1,2,3 trains). \n",
        "\n",
        "2. Plot your filtered subway stations, and color them according to the color of that subway line."
      ]
    },
    {
      "cell_type": "code",
      "execution_count": null,
      "metadata": {
        "id": "BrAB9dw0RgU2"
      },
      "outputs": [],
      "source": [
        "#create your filter"
      ]
    },
    {
      "cell_type": "code",
      "execution_count": null,
      "metadata": {
        "id": "ZWLjoAiTRgU3"
      },
      "outputs": [],
      "source": [
        "#plot your filtered subway stations"
      ]
    },
    {
      "cell_type": "markdown",
      "metadata": {
        "id": "wdVbXxFGRgU3"
      },
      "source": [
        "We can also plot multiple filters at once! All you need to do is add another plotting line to your figure:"
      ]
    },
    {
      "cell_type": "code",
      "execution_count": null,
      "metadata": {
        "id": "7kRwXaqqRgU3"
      },
      "outputs": [],
      "source": [
        "fig = plt.figure(figsize=(12,9)) \n",
        "ax1 = plt.axes(projection=ccrs.PlateCarree()) \n",
        "\n",
        "bounds = [-74.15,-73.699215,40.52,40.915568] # NYC bounds\n",
        "ax1.set_extent(bounds)\n",
        "ax1.set_xticks(np.linspace(bounds[0],bounds[1],6),crs=ccrs.PlateCarree()) \n",
        "ax1.set_yticks(np.linspace(bounds[2],bounds[3],7)[1:],crs=ccrs.PlateCarree()) \n",
        "ax1.xaxis.set_major_formatter(lon_formatter) \n",
        "ax1.yaxis.set_major_formatter(lat_formatter) \n",
        "ax1.xaxis.set_tick_params(labelsize=14)\n",
        "ax1.yaxis.set_tick_params(labelsize=14)\n",
        "ax1.add_image(background, int(scale)) # add background image scaled to bounds\n",
        "\n",
        "#add filtered stations to plot\n",
        "ax1.plot(stations[filterb].longitude, stations[filterb].latitude,markersize=5,marker='o',linestyle='',color='darkorange',transform=ccrs.PlateCarree())\n",
        "ax1.plot(stations[filter123].longitude, stations[filter123].latitude,markersize=5,marker='o',linestyle='',color='red',transform=ccrs.PlateCarree())\n",
        "\n",
        "#add title to plot        \n",
        "ax1.set_title('B,1,2,3 train Subway Stations',fontsize=16)"
      ]
    },
    {
      "cell_type": "code",
      "execution_count": null,
      "metadata": {
        "id": "rZjK-CktRgU3"
      },
      "outputs": [],
      "source": [
        "#try adding your filtered subway stations to the plot here!"
      ]
    },
    {
      "cell_type": "markdown",
      "metadata": {
        "id": "AlbAXNT5RgU3"
      },
      "source": [
        "We can even plot **all** the subway stations along with our colored ones. You just add the line of code that we used to plot them all above:\n",
        "\n",
        "    ax1.plot(stations.longitude, stations.latitude, markersize=5,marker='o',linestyle='',color='dimgray',transform=ccrs.PlateCarree())\n",
        "\n",
        "along with plotting our filtered stations.\n",
        "\n",
        "> **HINT**: Plot all of the stations FIRST (colored in gray), so that our filtered stations (in color) can be seen!\n",
        "    "
      ]
    },
    {
      "cell_type": "code",
      "execution_count": null,
      "metadata": {
        "id": "TQht7KP1RgU3"
      },
      "outputs": [],
      "source": [
        "fig = plt.figure(figsize=(12,9)) \n",
        "ax1 = plt.axes(projection=ccrs.PlateCarree()) \n",
        "\n",
        "bounds = [-74.15,-73.699215,40.52,40.915568] # NYC bounds\n",
        "ax1.set_extent(bounds)\n",
        "ax1.set_xticks(np.linspace(bounds[0],bounds[1],6),crs=ccrs.PlateCarree()) \n",
        "ax1.set_yticks(np.linspace(bounds[2],bounds[3],7)[1:],crs=ccrs.PlateCarree()) \n",
        "ax1.xaxis.set_major_formatter(lon_formatter) \n",
        "ax1.yaxis.set_major_formatter(lat_formatter) \n",
        "ax1.xaxis.set_tick_params(labelsize=14)\n",
        "ax1.yaxis.set_tick_params(labelsize=14)\n",
        "ax1.add_image(background, int(scale)) # add background image scaled to bounds\n",
        "\n",
        "#add all stations to plot\n",
        "ax1.plot(stations.longitude, stations.latitude,markersize=5,marker='o',linestyle='',color='dimgray',transform=ccrs.PlateCarree())\n",
        "\n",
        "#add filtered stations to plot\n",
        "ax1.plot(stations[filterb].longitude, stations[filterb].latitude,markersize=5,marker='o',linestyle='',color='darkorange',transform=ccrs.PlateCarree())\n",
        "ax1.plot(stations[filter123].longitude, stations[filter123].latitude,markersize=5,marker='o',linestyle='',color='red',transform=ccrs.PlateCarree())\n",
        "\n",
        "#add title to plot        \n",
        "ax1.set_title('All Subway Stations (B,1,2,3 trains in color)',fontsize=16)"
      ]
    },
    {
      "cell_type": "markdown",
      "metadata": {
        "id": "bCCRuetERgU4"
      },
      "source": [
        "Now, you try:\n",
        "\n",
        "1. Create **another** filter that selects a different subway line or set of subway lines.\n",
        "2. Pick a color for these filtered stations that matches the subway line color.\n",
        "3. Plot all the subway stations in gray, as well as this set of subway stations in the color you picked and the set of stations from the filter you created above. \n"
      ]
    },
    {
      "cell_type": "code",
      "execution_count": null,
      "metadata": {
        "id": "fQyPuen4RgU4"
      },
      "outputs": [],
      "source": [
        "#create your filter"
      ]
    },
    {
      "cell_type": "code",
      "execution_count": null,
      "metadata": {
        "id": "f6ilRlF8RgU4"
      },
      "outputs": [],
      "source": [
        "#plot your two filters as well as all subway stations"
      ]
    },
    {
      "cell_type": "markdown",
      "metadata": {
        "id": "bS-F9lZrRgU4"
      },
      "source": [
        "Now for a challenge, if you're up for it!\n",
        "\n",
        "There are **23** different subway lines in NYC:\n",
        "\n",
        "    1,2,3,4,5,6,7,A,C,E,B,D,F,M,G,L,J,Z,N,Q,R,W,S\n",
        "    \n",
        "which can be grouped into:\n",
        "\n",
        "    (1,2,3); (4,5,6); (7); (A,C,E); (B,D,F,M); (G); (L); (J,Z); (N,Q,R,W), (S)\n",
        "    \n",
        "Your task:\n",
        "\n",
        ">    1. Create a filter for each one of these subway groups\n",
        ">    2. Plot the groups on the same map (there are 10 groups, so you should have 10 lines of plotting commands).\n",
        ">    3. Assign each group its own color (color choices [here](https://matplotlib.org/stable/gallery/color/named_colors.html)).\n",
        ">    4. Voila! You have a color coded map of subway lines in NYC!"
      ]
    },
    {
      "cell_type": "code",
      "execution_count": null,
      "metadata": {
        "id": "cBHiJJ8iRgU4"
      },
      "outputs": [],
      "source": [
        "#your plot here"
      ]
    },
    {
      "cell_type": "markdown",
      "metadata": {
        "id": "Vvj_e_mTRgU4"
      },
      "source": [
        "## Time for some statistics...\n",
        "\n",
        "We can do more than just plot the subway stations - we can do statistics on the dataset as well! For example, we can determine how many subway stations are in each borough. \n",
        "\n",
        "Let's find out how many stations are in Manhattan. We can do this by first creating a **filter** but instead of filtering by the `subway_lines` column, we will filter by the `borough` column:"
      ]
    },
    {
      "cell_type": "code",
      "execution_count": null,
      "metadata": {
        "id": "QQVwmkLvRgU4"
      },
      "outputs": [],
      "source": [
        "manhattan = stations['borough'].str.contains('manhattan', case=False)"
      ]
    },
    {
      "cell_type": "markdown",
      "metadata": {
        "id": "YkXiXA2tRgU5"
      },
      "source": [
        "We can then determine how many stations (rows) are in our filter by using `len()`:"
      ]
    },
    {
      "cell_type": "code",
      "execution_count": null,
      "metadata": {
        "id": "QP7_VYA2RgU5"
      },
      "outputs": [],
      "source": [
        "len(stations[manhattan])"
      ]
    },
    {
      "cell_type": "markdown",
      "metadata": {
        "id": "Yw0BLxuvRgU5"
      },
      "source": [
        "There are **152** subway stations in Manhattan!\n",
        "\n",
        "Now, determine how many subway stations are in **Brooklyn**:"
      ]
    },
    {
      "cell_type": "code",
      "execution_count": null,
      "metadata": {
        "id": "xFKMURpNRgU5"
      },
      "outputs": [],
      "source": [
        "#find number of stations in Brookyln"
      ]
    },
    {
      "cell_type": "markdown",
      "metadata": {
        "id": "I34hXrwaRgU5"
      },
      "source": [
        "How many stations are in **Queens**?"
      ]
    },
    {
      "cell_type": "code",
      "execution_count": null,
      "metadata": {
        "id": "bKueJLWcRgU5"
      },
      "outputs": [],
      "source": [
        "#find number of stations in Queens"
      ]
    },
    {
      "cell_type": "markdown",
      "metadata": {
        "id": "TEuuPijxRgU5"
      },
      "source": [
        "How about the **Bronx**?"
      ]
    },
    {
      "cell_type": "code",
      "execution_count": null,
      "metadata": {
        "id": "8OTCCcigRgU6"
      },
      "outputs": [],
      "source": [
        "#find number of stations in the Bronx"
      ]
    },
    {
      "cell_type": "markdown",
      "metadata": {
        "id": "JyGa0oMwRgU6"
      },
      "source": [
        "Which borough has the **most** subway stations?"
      ]
    },
    {
      "cell_type": "code",
      "execution_count": null,
      "metadata": {
        "id": "NDJFSNv8RgU6"
      },
      "outputs": [],
      "source": [
        "#answer here"
      ]
    },
    {
      "cell_type": "markdown",
      "metadata": {
        "id": "RNxXvH-3RgU6"
      },
      "source": [
        "Remember, there are **23** different subway lines in NYC.\n",
        "\n",
        "Let's find out which **station** has the most subway lines stopping at it:\n",
        "> Hint: use `np.max()` to find the answer"
      ]
    },
    {
      "cell_type": "code",
      "execution_count": null,
      "metadata": {
        "id": "aZ3sTAb0RgU6"
      },
      "outputs": [],
      "source": [
        "np.max(stations['number_of_lines'])"
      ]
    },
    {
      "cell_type": "markdown",
      "metadata": {
        "id": "715NC0XuRgU6"
      },
      "source": [
        "This gives us the **number** of subway lines that stop at the station, but not the station name itself. To find the name of the station, we can ask pandas to return the row where `stations['number_of_lines'] == 5`:"
      ]
    },
    {
      "cell_type": "code",
      "execution_count": null,
      "metadata": {
        "id": "0GZTVfUTRgU6"
      },
      "outputs": [],
      "source": [
        "stations[stations['number_of_lines'] == 5]"
      ]
    },
    {
      "cell_type": "markdown",
      "metadata": {
        "id": "x1oj6gCoRgU6"
      },
      "source": [
        "DeKalb Ave?? This doesn't sound right. I would've guessed that Times Square has the most subway lines. Let's check the data for Times Square.\n",
        "\n",
        "Because we might not be sure of how Times Square is named in the data (might be upper case, lower case, have spaces, or have no spaces, etc.) we can create a filter like we did before, and find rows that have the word **times** in them:"
      ]
    },
    {
      "cell_type": "code",
      "execution_count": null,
      "metadata": {
        "id": "Hc9XJkuyRgU7"
      },
      "outputs": [],
      "source": [
        "times_square = stations['name'].str.contains('times', case=False)\n",
        "stations[times_square]"
      ]
    },
    {
      "cell_type": "markdown",
      "metadata": {
        "id": "mXs2Hy4gRgU7"
      },
      "source": [
        "Woah! Times Square has **4 different entries** in our dataset! The MTA has a listing for the individual subway lines that stop at the station (i.e. the different platforms). \n",
        "\n",
        "This is why you always need to **explore your data**!!!!! We can't answer which subway station has the most subway lines without doing this. \n",
        "\n",
        "Now that we know Times Square is listed 4 times in our dataset, we can take the `number_of_lines` for each entry of Times Square in our filter `times_square` and `sum()` them:"
      ]
    },
    {
      "cell_type": "code",
      "execution_count": null,
      "metadata": {
        "id": "ZovlhsyoRgU7"
      },
      "outputs": [],
      "source": [
        "sum(stations[times_square]['number_of_lines'])"
      ]
    },
    {
      "cell_type": "markdown",
      "metadata": {
        "id": "YgzlX5vURgU7"
      },
      "source": [
        "Times Square actually has 10 subways! This is more than DeKalb Ave, as we suspected. \n",
        "\n",
        "Now you try - find the actual number of lines at Atlantic Ave - Barclays station: \n",
        "\n",
        ">    1. Create a filter using the keyword 'barclay' (using atlantic would give you more stations than just the Barclay's Center station)\n",
        ">    2. List the number of entries for your barclays filter (i.e. `stations[your_filter)_name]`)\n",
        ">    3. Add up (`sum()`) the entries for Barclays Center to find the actual number of subway lines that stop there"
      ]
    },
    {
      "cell_type": "code",
      "execution_count": null,
      "metadata": {
        "id": "4ZDuDMYGRgU7"
      },
      "outputs": [],
      "source": [
        "#create your filter and list the Barclays center entries\n"
      ]
    },
    {
      "cell_type": "code",
      "execution_count": null,
      "metadata": {
        "id": "W29b1KMCRgU7"
      },
      "outputs": [],
      "source": [
        "#sum the number of lines to find the total\n"
      ]
    },
    {
      "cell_type": "markdown",
      "metadata": {
        "id": "F0TJ3CJdRgU7"
      },
      "source": [
        "Which station has the most subway lines - **Times Square** or **Atlantic Ave/Barclay's Center**?"
      ]
    },
    {
      "cell_type": "code",
      "execution_count": null,
      "metadata": {
        "id": "1ZwVOcOvRgU7"
      },
      "outputs": [],
      "source": [
        "# your answer here"
      ]
    },
    {
      "cell_type": "markdown",
      "metadata": {
        "id": "zcKs1cKCRgU8"
      },
      "source": [
        "If we hadn't explored the data more, we would have assumed that DeKalb Ave has the most subway lines. You'll see that many subway stations are repeated in the dataset. \n",
        "\n",
        "If you want to explore the data more, try:\n",
        "\n",
        ">    1. Finding out how many duplicate stations there are, using `.duplicated()` (with examples [here](https://pandas.pydata.org/docs/reference/api/pandas.DataFrame.duplicated.html)).\n",
        ">    2. Calculating the number of unique combinations of subway lines, using `np.unique()`\n",
        ">    3. Determining the number of unique entries in a given column using `.value_counts()` (documentation is [here](https://pandas.pydata.org/docs/reference/api/pandas.DataFrame.value_counts.html)"
      ]
    },
    {
      "cell_type": "code",
      "execution_count": null,
      "metadata": {
        "id": "RVabXGQjRgU8"
      },
      "outputs": [],
      "source": [
        "#explore more if you wish"
      ]
    },
    {
      "cell_type": "markdown",
      "metadata": {
        "id": "XYCZYarlRgU8"
      },
      "source": [
        "## That's all for today!"
      ]
    }
  ],
  "metadata": {
    "colab": {
      "collapsed_sections": [],
      "name": "Week5_Geographic_DataVisualization.ipynb",
      "provenance": [],
      "include_colab_link": true
    },
    "kernelspec": {
      "display_name": "Python 3 (ipykernel)",
      "language": "python",
      "name": "python3"
    },
    "language_info": {
      "codemirror_mode": {
        "name": "ipython",
        "version": 3
      },
      "file_extension": ".py",
      "mimetype": "text/x-python",
      "name": "python",
      "nbconvert_exporter": "python",
      "pygments_lexer": "ipython3",
      "version": "3.8.12"
    }
  },
  "nbformat": 4,
  "nbformat_minor": 0
}